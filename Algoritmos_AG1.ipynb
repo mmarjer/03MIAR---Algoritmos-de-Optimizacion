{
  "nbformat": 4,
  "nbformat_minor": 0,
  "metadata": {
    "colab": {
      "provenance": [],
      "authorship_tag": "ABX9TyOauvKoD4hQmKhQDCohSv/L",
      "include_colab_link": true
    },
    "kernelspec": {
      "name": "python3",
      "display_name": "Python 3"
    },
    "language_info": {
      "name": "python"
    }
  },
  "cells": [
    {
      "cell_type": "markdown",
      "metadata": {
        "id": "view-in-github",
        "colab_type": "text"
      },
      "source": [
        "<a href=\"https://colab.research.google.com/github/mmarjer/03MIAR---Algoritmos-de-Optimizacion/blob/main/Algoritmos_AG1.ipynb\" target=\"_parent\"><img src=\"https://colab.research.google.com/assets/colab-badge.svg\" alt=\"Open In Colab\"/></a>"
      ]
    },
    {
      "cell_type": "code",
      "execution_count": 16,
      "metadata": {
        "id": "0li9HEWcQpOp"
      },
      "outputs": [],
      "source": []
    },
    {
      "cell_type": "markdown",
      "source": [
        "Nombre: Manuel Martín Jerónimo <br>\n",
        "\n",
        "*   Elemento de lista\n",
        "*   Elemento de lista\n",
        "\n",
        "\n",
        "https://colab.research.google.com/drive/1olRLXb_sn3imTZfabsDBrfpCSIuHOMle?usp=sharing\n",
        "\n",
        "https://github.com/mmarjer/03MIAR---Algoritmos-de-Optimizacion"
      ],
      "metadata": {
        "id": "Hae2FMLDQulE"
      }
    },
    {
      "cell_type": "code",
      "source": [
        "def Torres_Hanoi(N, desde, hasta):\n",
        "  #N = nº fichas \n",
        "  #desde nº poste inicio\n",
        "  #hasta = nº poste final\n",
        "\n",
        "  if N == 1:\n",
        "    print(\"Lleva la ficha desde \" + str(desde) + \" hasta \" + str(hasta))\n",
        "  else:\n",
        "    Torres_Hanoi(N-1, desde, 6-desde-hasta)\n",
        "    print(\"Lleva la ficha desde \" + str(desde) + \" hasta \" + str(hasta))\n",
        "    Torres_Hanoi(N-1, 6-desde-hasta, desde )\n",
        "Torres_Hanoi(3,1,3)"
      ],
      "metadata": {
        "colab": {
          "base_uri": "https://localhost:8080/"
        },
        "id": "c5y7FnAmVbGt",
        "outputId": "c0e82b73-b5fb-4435-8254-1b4c43c4b2da"
      },
      "execution_count": 17,
      "outputs": [
        {
          "output_type": "stream",
          "name": "stdout",
          "text": [
            "Lleva la ficha desde 1 hasta 3\n",
            "Lleva la ficha desde 1 hasta 2\n",
            "Lleva la ficha desde 3 hasta 1\n",
            "Lleva la ficha desde 1 hasta 3\n",
            "Lleva la ficha desde 2 hasta 3\n",
            "Lleva la ficha desde 2 hasta 1\n",
            "Lleva la ficha desde 3 hasta 2\n"
          ]
        }
      ]
    },
    {
      "cell_type": "code",
      "source": [
        "import math \n",
        "#debe estar el sistema monetario ordenado\n",
        "def cambio_monedas(Cantidad,Sistema):\n",
        "  Solucion=[0,0,0,0]\n",
        "  Valor_Acumulado=0\n",
        "  for i in range(0,len(Sistema)-1):\n",
        "    monedas= (Cantidad-Valor_Acumulado)//Sistema[i]\n",
        "    Solucion[i]=monedas\n",
        "    Valor_Acumulado+= monedas*Sistema[i]\n",
        "    if Valor_Acumulado==Cantidad:\n",
        "      return Solucion\n",
        "\n",
        "print(cambio_monedas(80,[25,10,5,1]))"
      ],
      "metadata": {
        "colab": {
          "base_uri": "https://localhost:8080/"
        },
        "id": "-RtWKdyKgmKn",
        "outputId": "0b943506-09f1-4728-e891-d8be834a2d8e"
      },
      "execution_count": 6,
      "outputs": [
        {
          "output_type": "stream",
          "name": "stdout",
          "text": [
            "[3, 0, 1, 0]\n"
          ]
        }
      ]
    },
    {
      "cell_type": "code",
      "source": [
        "#N Reinas - Vuelta Atrás()\n",
        "################################################################################\n",
        "\n",
        "#Verifica que en la solución parcial no hay amenzas entre reinas\n",
        "################################################################\n",
        "def es_prometedora(SOLUCION,etapa):\n",
        "################################################################\n",
        "  #print(SOLUCION)\n",
        "  #Si la solución tiene dos valores iguales no es valida => Dos reinas en la misma fila\n",
        "  for i in range(etapa+1):\n",
        "    #print(\"El valor \" + str(SOLUCION[i]) + \" está \" +  str(SOLUCION.count(SOLUCION[i])) + \" veces\")\n",
        "    if SOLUCION.count(SOLUCION[i]) > 1:       \n",
        "      return False\n",
        "  \n",
        "    #Verifica las diagonales\n",
        "    for j in range(i+1, etapa +1 ):\n",
        "      #print(\"Comprobando diagonal de \" + str(i) + \" y \" + str(j))\n",
        "      if abs(i-j) == abs(SOLUCION[i]-SOLUCION[j]) : return False\n",
        "  return True\n",
        "\n",
        "#Traduce la solución al tablero\n",
        "################################################################\n",
        "def escribe_solucion(S):\n",
        "################################################################\n",
        "  n = len(S)\n",
        "  for x in range(n):\n",
        "    print(\"\")\n",
        "    for i in range(n):\n",
        "      if S[i] == x+1:\n",
        "        print(\" X \" , end=\"\")\n",
        "      else:\n",
        "        print(\" - \", end=\"\")\n",
        "\n",
        "\n",
        "\n",
        "#Proceso principal de N-Reinas\n",
        "################################################################\n",
        "def reinas(N, solucion=[],etapa=0): \n",
        "################################################################\n",
        "### ....\n",
        "  if len(solucion) == 0:         # [0,0,0...]\n",
        "    solucion = [0 for i in range(N) ]\n",
        "  \n",
        "  for i in range(1, N+1):\n",
        "    solucion[etapa] = i\n",
        "    if es_prometedora(solucion, etapa):\n",
        "      if etapa == N-1:\n",
        "        print(solucion)\n",
        "      else:  \n",
        "        reinas(N, solucion, etapa+1)\n",
        "    else:\n",
        "      None\n",
        "  \n",
        "  solucion[etapa] = 0\n",
        "\n",
        "reinas(8,solucion=[],etapa=0)"
      ],
      "metadata": {
        "colab": {
          "base_uri": "https://localhost:8080/"
        },
        "id": "lwfWbY0opzVB",
        "outputId": "684ee04f-e5e1-4039-cddd-04052447995b"
      },
      "execution_count": 7,
      "outputs": [
        {
          "output_type": "stream",
          "name": "stdout",
          "text": [
            "[1, 5, 8, 6, 3, 7, 2, 4]\n",
            "[1, 6, 8, 3, 7, 4, 2, 5]\n",
            "[1, 7, 4, 6, 8, 2, 5, 3]\n",
            "[1, 7, 5, 8, 2, 4, 6, 3]\n",
            "[2, 4, 6, 8, 3, 1, 7, 5]\n",
            "[2, 5, 7, 1, 3, 8, 6, 4]\n",
            "[2, 5, 7, 4, 1, 8, 6, 3]\n",
            "[2, 6, 1, 7, 4, 8, 3, 5]\n",
            "[2, 6, 8, 3, 1, 4, 7, 5]\n",
            "[2, 7, 3, 6, 8, 5, 1, 4]\n",
            "[2, 7, 5, 8, 1, 4, 6, 3]\n",
            "[2, 8, 6, 1, 3, 5, 7, 4]\n",
            "[3, 1, 7, 5, 8, 2, 4, 6]\n",
            "[3, 5, 2, 8, 1, 7, 4, 6]\n",
            "[3, 5, 2, 8, 6, 4, 7, 1]\n",
            "[3, 5, 7, 1, 4, 2, 8, 6]\n",
            "[3, 5, 8, 4, 1, 7, 2, 6]\n",
            "[3, 6, 2, 5, 8, 1, 7, 4]\n",
            "[3, 6, 2, 7, 1, 4, 8, 5]\n",
            "[3, 6, 2, 7, 5, 1, 8, 4]\n",
            "[3, 6, 4, 1, 8, 5, 7, 2]\n",
            "[3, 6, 4, 2, 8, 5, 7, 1]\n",
            "[3, 6, 8, 1, 4, 7, 5, 2]\n",
            "[3, 6, 8, 1, 5, 7, 2, 4]\n",
            "[3, 6, 8, 2, 4, 1, 7, 5]\n",
            "[3, 7, 2, 8, 5, 1, 4, 6]\n",
            "[3, 7, 2, 8, 6, 4, 1, 5]\n",
            "[3, 8, 4, 7, 1, 6, 2, 5]\n",
            "[4, 1, 5, 8, 2, 7, 3, 6]\n",
            "[4, 1, 5, 8, 6, 3, 7, 2]\n",
            "[4, 2, 5, 8, 6, 1, 3, 7]\n",
            "[4, 2, 7, 3, 6, 8, 1, 5]\n",
            "[4, 2, 7, 3, 6, 8, 5, 1]\n",
            "[4, 2, 7, 5, 1, 8, 6, 3]\n",
            "[4, 2, 8, 5, 7, 1, 3, 6]\n",
            "[4, 2, 8, 6, 1, 3, 5, 7]\n",
            "[4, 6, 1, 5, 2, 8, 3, 7]\n",
            "[4, 6, 8, 2, 7, 1, 3, 5]\n",
            "[4, 6, 8, 3, 1, 7, 5, 2]\n",
            "[4, 7, 1, 8, 5, 2, 6, 3]\n",
            "[4, 7, 3, 8, 2, 5, 1, 6]\n",
            "[4, 7, 5, 2, 6, 1, 3, 8]\n",
            "[4, 7, 5, 3, 1, 6, 8, 2]\n",
            "[4, 8, 1, 3, 6, 2, 7, 5]\n",
            "[4, 8, 1, 5, 7, 2, 6, 3]\n",
            "[4, 8, 5, 3, 1, 7, 2, 6]\n",
            "[5, 1, 4, 6, 8, 2, 7, 3]\n",
            "[5, 1, 8, 4, 2, 7, 3, 6]\n",
            "[5, 1, 8, 6, 3, 7, 2, 4]\n",
            "[5, 2, 4, 6, 8, 3, 1, 7]\n",
            "[5, 2, 4, 7, 3, 8, 6, 1]\n",
            "[5, 2, 6, 1, 7, 4, 8, 3]\n",
            "[5, 2, 8, 1, 4, 7, 3, 6]\n",
            "[5, 3, 1, 6, 8, 2, 4, 7]\n",
            "[5, 3, 1, 7, 2, 8, 6, 4]\n",
            "[5, 3, 8, 4, 7, 1, 6, 2]\n",
            "[5, 7, 1, 3, 8, 6, 4, 2]\n",
            "[5, 7, 1, 4, 2, 8, 6, 3]\n",
            "[5, 7, 2, 4, 8, 1, 3, 6]\n",
            "[5, 7, 2, 6, 3, 1, 4, 8]\n",
            "[5, 7, 2, 6, 3, 1, 8, 4]\n",
            "[5, 7, 4, 1, 3, 8, 6, 2]\n",
            "[5, 8, 4, 1, 3, 6, 2, 7]\n",
            "[5, 8, 4, 1, 7, 2, 6, 3]\n",
            "[6, 1, 5, 2, 8, 3, 7, 4]\n",
            "[6, 2, 7, 1, 3, 5, 8, 4]\n",
            "[6, 2, 7, 1, 4, 8, 5, 3]\n",
            "[6, 3, 1, 7, 5, 8, 2, 4]\n",
            "[6, 3, 1, 8, 4, 2, 7, 5]\n",
            "[6, 3, 1, 8, 5, 2, 4, 7]\n",
            "[6, 3, 5, 7, 1, 4, 2, 8]\n",
            "[6, 3, 5, 8, 1, 4, 2, 7]\n",
            "[6, 3, 7, 2, 4, 8, 1, 5]\n",
            "[6, 3, 7, 2, 8, 5, 1, 4]\n",
            "[6, 3, 7, 4, 1, 8, 2, 5]\n",
            "[6, 4, 1, 5, 8, 2, 7, 3]\n",
            "[6, 4, 2, 8, 5, 7, 1, 3]\n",
            "[6, 4, 7, 1, 3, 5, 2, 8]\n",
            "[6, 4, 7, 1, 8, 2, 5, 3]\n",
            "[6, 8, 2, 4, 1, 7, 5, 3]\n",
            "[7, 1, 3, 8, 6, 4, 2, 5]\n",
            "[7, 2, 4, 1, 8, 5, 3, 6]\n",
            "[7, 2, 6, 3, 1, 4, 8, 5]\n",
            "[7, 3, 1, 6, 8, 5, 2, 4]\n",
            "[7, 3, 8, 2, 5, 1, 6, 4]\n",
            "[7, 4, 2, 5, 8, 1, 3, 6]\n",
            "[7, 4, 2, 8, 6, 1, 3, 5]\n",
            "[7, 5, 3, 1, 6, 8, 2, 4]\n",
            "[8, 2, 4, 1, 7, 5, 3, 6]\n",
            "[8, 2, 5, 3, 1, 7, 4, 6]\n",
            "[8, 3, 1, 6, 2, 5, 7, 4]\n",
            "[8, 4, 1, 3, 6, 2, 7, 5]\n"
          ]
        }
      ]
    },
    {
      "cell_type": "code",
      "source": [
        "escribe_solucion([1, 5, 8, 6, 3, 7, 2, 4])"
      ],
      "metadata": {
        "colab": {
          "base_uri": "https://localhost:8080/"
        },
        "id": "hegkQsv7p0cx",
        "outputId": "a769b173-fa51-42a9-c190-399d9c22acc5"
      },
      "execution_count": 8,
      "outputs": [
        {
          "output_type": "stream",
          "name": "stdout",
          "text": [
            "\n",
            " X  -  -  -  -  -  -  - \n",
            " -  -  -  -  -  -  X  - \n",
            " -  -  -  -  X  -  -  - \n",
            " -  -  -  -  -  -  -  X \n",
            " -  X  -  -  -  -  -  - \n",
            " -  -  -  X  -  -  -  - \n",
            " -  -  -  -  -  X  -  - \n",
            " -  -  X  -  -  -  -  - "
          ]
        }
      ]
    },
    {
      "cell_type": "code",
      "source": [
        "#Viaje por el rio - Programación dinámica\n",
        "################################################################################\n",
        "\n",
        "TARIFAS = [\n",
        "[0,5,4,3,999,999,999],\n",
        "[999,0,999,2,3,999,11],\n",
        "[999,999, 0,1,999,4,10],\n",
        "[999,999,999, 0,5,6,9],\n",
        "[999,999, 999,999,0,999,4],\n",
        "[999,999, 999,999,999,0,3],\n",
        "[999,999,999,999,999,999,0]\n",
        "]\n",
        "\n",
        "#999 se puede sustituir por float(\"inf\")\n",
        "\n",
        "\n",
        "#Calculo de la matriz de PRECIOS y RUTAS\n",
        "################################################################  \n",
        "def Precios(TARIFAS):\n",
        "################################################################  \n",
        "  #Total de Nodos\n",
        "  N = len(TARIFAS[0])\n",
        "  \n",
        "  #Inicialización de la tabla de precios\n",
        "  PRECIOS = [ [9999]*N for i in [9999]*N]\n",
        "  RUTA = [ [\"\"]*N for i in [\"\"]*N]\n",
        "  \n",
        "  for i in range(0,N-1):\n",
        "    RUTA[i][i] = i             #Para ir de i a i se \"pasa por i\"\n",
        "    PRECIOS[i][i] = 0          #Para ir de i a i se se paga 0\n",
        "    for j in range(i+1, N):\n",
        "      MIN = TARIFAS[i][j]\n",
        "      RUTA[i][j] = i         \n",
        "      \n",
        "      for k in range(i, j):\n",
        "        if PRECIOS[i][k] + TARIFAS[k][j] < MIN:\n",
        "            MIN = min(MIN, PRECIOS[i][k] + TARIFAS[k][j] )\n",
        "            RUTA[i][j] = k          #Anota que para ir de i a j hay que pasar por k\n",
        "        PRECIOS[i][j] = MIN\n",
        "        \n",
        "  return PRECIOS,RUTA\n",
        "################################################################  \n",
        "\n",
        "PRECIOS,RUTA = Precios(TARIFAS)  \n",
        "#print(PRECIOS[0][6])\n",
        "\n",
        "print(\"PRECIOS\")\n",
        "for i in range(len(TARIFAS)):\n",
        "  print(PRECIOS[i])\n",
        "\n",
        "print(\"\\nRUTA\")  \n",
        "for i in range(len(TARIFAS)):\n",
        "  print(RUTA[i])  \n",
        "  \n",
        "#Determinar la ruta con Recursividad\n",
        "def calcular_ruta(RUTA, desde, hasta):\n",
        "  if desde == hasta:\n",
        "    #print(\"Ir a :\" + str(desde))\n",
        "    return \"\" \n",
        "  else:\n",
        "    return str(calcular_ruta( RUTA, desde, RUTA[desde][hasta])) +  \\\n",
        "                ',' + \\\n",
        "                str(RUTA[desde][hasta] \\\n",
        "              ) \n",
        "\n",
        "print(\"\\nLa ruta es:\")  \n",
        "calcular_ruta(RUTA, 0,6)  "
      ],
      "metadata": {
        "colab": {
          "base_uri": "https://localhost:8080/",
          "height": 365
        },
        "id": "hNamLihhp_NC",
        "outputId": "916250d6-2795-4672-9012-4c484cfd458c"
      },
      "execution_count": 9,
      "outputs": [
        {
          "output_type": "stream",
          "name": "stdout",
          "text": [
            "PRECIOS\n",
            "[0, 5, 4, 3, 8, 8, 11]\n",
            "[9999, 0, 999, 2, 3, 8, 7]\n",
            "[9999, 9999, 0, 1, 6, 4, 7]\n",
            "[9999, 9999, 9999, 0, 5, 6, 9]\n",
            "[9999, 9999, 9999, 9999, 0, 999, 4]\n",
            "[9999, 9999, 9999, 9999, 9999, 0, 3]\n",
            "[9999, 9999, 9999, 9999, 9999, 9999, 9999]\n",
            "\n",
            "RUTA\n",
            "[0, 0, 0, 0, 1, 2, 5]\n",
            "['', 1, 1, 1, 1, 3, 4]\n",
            "['', '', 2, 2, 3, 2, 5]\n",
            "['', '', '', 3, 3, 3, 3]\n",
            "['', '', '', '', 4, 4, 4]\n",
            "['', '', '', '', '', 5, 5]\n",
            "['', '', '', '', '', '', '']\n",
            "\n",
            "La ruta es:\n"
          ]
        },
        {
          "output_type": "execute_result",
          "data": {
            "text/plain": [
              "',0,2,5'"
            ],
            "application/vnd.google.colaboratory.intrinsic+json": {
              "type": "string"
            }
          },
          "metadata": {},
          "execution_count": 9
        }
      ]
    },
    {
      "cell_type": "markdown",
      "source": [],
      "metadata": {
        "id": "Ii9WzytiRouW"
      }
    },
    {
      "cell_type": "markdown",
      "source": [
        "## Análisis para mejorar nota:"
      ],
      "metadata": {
        "id": "bB-5fQkcOqg7"
      }
    },
    {
      "cell_type": "code",
      "source": [
        "#dada una lista de número encontrar los dos mas cercanos\n",
        "\n",
        "Array= [3403, 4537, 9089, 9746, 7259]\n",
        "\n",
        "#aplicaremos fuerza bruta\n",
        "\n",
        "def FuerzaBruta(Lista):\n",
        "  min = 999999\n",
        "  x=0\n",
        "  y=0\n",
        "\n",
        "  for index1,num in enumerate(Lista):\n",
        "    for index2,nnum in enumerate(Lista):\n",
        "      if index1!=index2:\n",
        "        if abs(num - nnum)< min:\n",
        "          min = abs(num - nnum)\n",
        "          x=num\n",
        "          y=nnum\n",
        "  return x,y\n",
        "\n",
        "x, y = FuerzaBruta(Array)\n",
        "print('El primer puntoes {}'.format(x))\n",
        "print('El segundo punto es {}'.format(y))\n",
        "\n",
        "#La complejidad computacional vendrá dada por los dos bucles for anidados \n",
        "\n"
      ],
      "metadata": {
        "colab": {
          "base_uri": "https://localhost:8080/"
        },
        "id": "auRJdBnbRraU",
        "outputId": "7136dd76-deb7-44dc-f696-3fc82cbf76e3"
      },
      "execution_count": 10,
      "outputs": [
        {
          "output_type": "stream",
          "name": "stdout",
          "text": [
            "El primer puntoes 9089\n",
            "El segundo punto es 9746\n"
          ]
        }
      ]
    },
    {
      "cell_type": "markdown",
      "source": [
        "## La complejidad computacional del algoritmo por fuerza bruta vendrá dada por los dos bucles anidados que tenemos:\n",
        "\n",
        "## Luego la complejidad será de n**2"
      ],
      "metadata": {
        "id": "CMAXI2piXDeC"
      }
    },
    {
      "cell_type": "code",
      "source": [
        "#dada una lista de número encontrar los dos mas cercanos\n",
        "#Ahora aplicaremos divide y venceras\n",
        "\n",
        "import math\n",
        "\n",
        "#necesitamos la lista ordenada previamente\n",
        "def min_distance(array):\n",
        "  n = len(array)\n",
        "  #Si tenemos un único elemento ponemos un valor infinito para que en la \n",
        "  #comparación posterior no se elija esta zona \n",
        "  if n<=1:\n",
        "    lista=[]\n",
        "    lista.append(array[0])\n",
        "    return math.inf,lista\n",
        "  \n",
        "  #Con esta condición acaba la recursividad, en esto se basa divide y vencerás \n",
        "  #limitarlo a la comparación de dos elementos\n",
        "  elif n==2:\n",
        "    lista=[]\n",
        "    lista.append(array[0])\n",
        "    lista.append(array[1])\n",
        "    return abs(array[0]-array[1]),lista\n",
        "  \n",
        "  else:\n",
        "\n",
        "    mid=n//2\n",
        "    leftpoints=[]\n",
        "    rightpoints=[]\n",
        "    \n",
        "    #Se continua llamando a la recursividad\n",
        "    left,leftpoints=min_distance(array[:mid])\n",
        "    right,rightpoints=min_distance(array[mid:])\n",
        "    points=[]\n",
        "    \n",
        "\n",
        "    #Se comaparan las listas que se van devolviendo de la recusividad\n",
        "    if(left<right):\n",
        "      minimo=left\n",
        "      points=leftpoints\n",
        "      #Comparamos el ultimo elemento de la izquierda con el primero de la derecha en caso que la mejor lista sea la derecha \n",
        "      #Con esto conseguimos comparar la dicisión de las dos parajeas de núemros\n",
        "      # [1,2] y [4,9]\n",
        "      # tenemos que la izquierda es la mejor comparamos el elemento 2 con el 4 para ver si la distancias es la más pequeña\n",
        "      #Esto lo podemos hacer así porque tenemos la lista ordenada previamente\n",
        "      #Si no la tuviesemos podríamos aplicar fuerza bruta para comparar los 4 elementos\n",
        "      if abs(leftpoints[-1]-rightpoints[0])<minimo:\n",
        "        minimo= abs(leftpoints[-1]-rightpoints[0])\n",
        "        points=[]\n",
        "        points.append(leftpoints[-1])\n",
        "        points.append(rightpoints[0])\n",
        "\n",
        "    else:\n",
        "      minimo= right\n",
        "      points=rightpoints\n",
        "      if abs(rightpoints[0]-leftpoints[-1])<minimo:\n",
        "        minimo= abs(rightpoints[0]-leftpoints[-1])\n",
        "        points=[]\n",
        "        points.append(rightpoints[0])\n",
        "        points.append(leftpoints[-1])\n",
        "\n",
        "    return minimo,points\n",
        "\n",
        "\n"
      ],
      "metadata": {
        "id": "_A2_X8mLX02m"
      },
      "execution_count": 176,
      "outputs": []
    },
    {
      "cell_type": "code",
      "source": [
        "#necesitamos la lista ordenada previamente\n",
        "#en esta cambia el cálculo de la distancia ahora no es simplemente la resta de dos números\n",
        "def min_distance2D(array):\n",
        "  n = len(array)\n",
        "  #Si tenemos un único elemento ponemos un valor infinito para que en la \n",
        "  #comparación posterior no se elija esta zona \n",
        "  if n<=1:\n",
        "    lista=[]\n",
        "    lista.append(array[0])\n",
        "    return math.inf,lista\n",
        "  \n",
        "  #Con esta condición acaba la recursividad, en esto se basa divide y vencerás \n",
        "  #limitarlo a la comparación de dos elementos\n",
        "  elif n==2:\n",
        "    lista=[]\n",
        "    lista.append(array[0])\n",
        "    lista.append(array[1])\n",
        "    return euclidea(array[0],array[1]),lista\n",
        "  \n",
        "  else:\n",
        "\n",
        "    mid=n//2\n",
        "    leftpoints=[]\n",
        "    rightpoints=[]\n",
        "    #Se continua llamando a la recursividad\n",
        "    left,leftpoints=min_distance2D(array[:mid])\n",
        "    right,rightpoints=min_distance2D(array[mid:])\n",
        "    points=[]\n",
        "    \n",
        "    #Se comaparan las listas que se van devolviendo de la recusividad\n",
        "    if(left<right):\n",
        "      minimo=left\n",
        "      points=leftpoints\n",
        "      #Comparamos el ultimo elemento de la izquierda con el primero de la derecha en caso que la mejor lista sea la derecha \n",
        "      #Con esto conseguimos comparar la dicisión de las dos parajeas de núemros\n",
        "      # [1,2] y [4,9]\n",
        "      # tenemos que la izquierda es la mejor comparamos el elemento 2 con el 4 para ver si la distancias es la más pequeña\n",
        "      #Esto lo podemos hacer así porque tenemos la lista ordenada previamente\n",
        "      #Si no la tuviesemos podríamos aplicar fuerza bruta para comparar los 4 elementos\n",
        "      if euclidea(leftpoints[-1],rightpoints[0])<minimo:\n",
        "        minimo= euclidea(leftpoints[-1],rightpoints[0])\n",
        "        points=[]\n",
        "        points.append(leftpoints[-1])\n",
        "        points.append(rightpoints[0])\n",
        "\n",
        "    else:\n",
        "      minimo= right\n",
        "      points=rightpoints\n",
        "      if euclidea(rightpoints[0],leftpoints[-1])<minimo:\n",
        "        minimo= euclidea(rightpoints[0],leftpoints[-1])\n",
        "        points=[]\n",
        "        points.append(rightpoints[0])\n",
        "        points.append(leftpoints[-1])\n",
        "\n",
        "    return minimo,points\n",
        "\n",
        "def euclidea(punto1, punto2):\n",
        "  return ((punto2[0] - punto1[0])**2 + (punto2[1] - punto1[1])**2)**0.5\n"
      ],
      "metadata": {
        "id": "77v17s_-QXau"
      },
      "execution_count": 193,
      "outputs": []
    },
    {
      "cell_type": "code",
      "source": [
        "#necesitamos la lista ordenada previamente\n",
        "#en esta cambia el cálculo de la distancia ahora no es simplemente la resta de dos números\n",
        "def min_distance3D(array):\n",
        "  n = len(array)\n",
        "  #Si tenemos un único elemento ponemos un valor infinito para que en la \n",
        "  #comparación posterior no se elija esta zona \n",
        "  if n<=1:\n",
        "    lista=[]\n",
        "    lista.append(array[0])\n",
        "    return math.inf,lista\n",
        "  \n",
        "  #Con esta condición acaba la recursividad, en esto se basa divide y vencerás \n",
        "  #limitarlo a la comparación de dos elementos\n",
        "  elif n==2:\n",
        "    lista=[]\n",
        "    lista.append(array[0])\n",
        "    lista.append(array[1])\n",
        "    return euclidea3D(array[0],array[1]),lista\n",
        "  \n",
        "  else:\n",
        "\n",
        "    mid=n//2\n",
        "    leftpoints=[]\n",
        "    rightpoints=[]\n",
        "    #Se continua llamando a la recursividad\n",
        "    left,leftpoints=min_distance3D(array[:mid])\n",
        "    right,rightpoints=min_distance3D(array[mid:])\n",
        "    points=[]\n",
        "    \n",
        "    #Se comaparan las listas que se van devolviendo de la recusividad\n",
        "    if(left<right):\n",
        "      minimo=left\n",
        "      points=leftpoints\n",
        "      #Comparamos el ultimo elemento de la izquierda con el primero de la derecha en caso que la mejor lista sea la derecha \n",
        "      #Con esto conseguimos comparar la dicisión de las dos parajeas de núemros\n",
        "      # [1,2] y [4,9]\n",
        "      # tenemos que la izquierda es la mejor comparamos el elemento 2 con el 4 para ver si la distancias es la más pequeña\n",
        "      #Esto lo podemos hacer así porque tenemos la lista ordenada previamente\n",
        "      #Si no la tuviesemos podríamos aplicar fuerza bruta para comparar los 4 elementos\n",
        "      if euclidea3D(leftpoints[-1],rightpoints[0])<minimo:\n",
        "        minimo= euclidea3D(leftpoints[-1],rightpoints[0])\n",
        "        points=[]\n",
        "        points.append(leftpoints[-1])\n",
        "        points.append(rightpoints[0])\n",
        "\n",
        "    else:\n",
        "      minimo= right\n",
        "      points=rightpoints\n",
        "      if euclidea3D(rightpoints[0],leftpoints[-1])<minimo:\n",
        "        minimo= euclidea3D(rightpoints[0],leftpoints[-1])\n",
        "        points=[]\n",
        "        points.append(rightpoints[0])\n",
        "        points.append(leftpoints[-1])\n",
        "\n",
        "    return minimo,points\n",
        "\n",
        "def euclidea3D(point1, point2):\n",
        "    x1, y1, z1 = point1\n",
        "    x2, y2, z2 = point2\n",
        "    return math.sqrt((x2 - x1) ** 2 + (y2 - y1) ** 2 + (z2 - z1) ** 2)"
      ],
      "metadata": {
        "id": "IUfpiv_oRO-z"
      },
      "execution_count": 194,
      "outputs": []
    },
    {
      "cell_type": "markdown",
      "source": [
        "## Al tratarse de un algoritmo de divide y vencerás el orden de complejidad es (nlogn) luego es una mejor opción que la fuerza bruta"
      ],
      "metadata": {
        "id": "MkdrNa0Dwr-W"
      }
    },
    {
      "cell_type": "code",
      "source": [
        "#Aplicamos este nueva función sobre una lista de 1D\n",
        "\n",
        "import random\n",
        "\n",
        "LISTA_1D = [random.randrange(1,10000) for x in range(1000)]\n",
        "\n",
        "LISTA_1D.sort()\n",
        "\n",
        "print(min_distance(LISTA_1D))\n",
        "print(FuerzaBruta(LISTA_1D))\n",
        "print(LISTA_1D)"
      ],
      "metadata": {
        "colab": {
          "base_uri": "https://localhost:8080/"
        },
        "id": "gwAeit2oxED6",
        "outputId": "2c150d0c-62b0-4720-e7ab-1450c42534b1"
      },
      "execution_count": 195,
      "outputs": [
        {
          "output_type": "stream",
          "name": "stdout",
          "text": [
            "(0, [9920, 9920])\n",
            "(299, 299)\n",
            "[7, 16, 29, 32, 33, 44, 53, 54, 55, 78, 81, 93, 96, 114, 118, 131, 147, 152, 156, 160, 164, 167, 217, 219, 235, 244, 256, 263, 265, 271, 273, 282, 299, 299, 302, 313, 315, 321, 322, 329, 349, 357, 360, 362, 365, 370, 385, 398, 403, 429, 437, 446, 460, 472, 472, 480, 495, 511, 534, 540, 550, 575, 582, 585, 589, 608, 609, 623, 649, 659, 672, 690, 705, 709, 746, 750, 759, 765, 789, 816, 828, 828, 839, 840, 843, 849, 851, 851, 860, 865, 865, 884, 898, 917, 933, 936, 950, 950, 957, 960, 966, 995, 1004, 1046, 1046, 1051, 1053, 1083, 1089, 1093, 1112, 1114, 1124, 1135, 1146, 1155, 1155, 1161, 1166, 1176, 1177, 1179, 1182, 1184, 1191, 1192, 1205, 1220, 1222, 1224, 1228, 1234, 1280, 1284, 1284, 1292, 1298, 1309, 1331, 1351, 1362, 1363, 1366, 1371, 1374, 1380, 1383, 1398, 1402, 1409, 1421, 1427, 1430, 1433, 1434, 1450, 1457, 1501, 1523, 1600, 1612, 1619, 1623, 1629, 1649, 1651, 1652, 1654, 1655, 1665, 1685, 1692, 1692, 1693, 1712, 1712, 1717, 1723, 1749, 1750, 1752, 1762, 1771, 1776, 1810, 1836, 1836, 1846, 1865, 1875, 1895, 1905, 1908, 1917, 1926, 1927, 1957, 1963, 2009, 2023, 2028, 2041, 2047, 2056, 2062, 2067, 2075, 2076, 2081, 2087, 2093, 2093, 2095, 2098, 2104, 2127, 2148, 2148, 2152, 2157, 2159, 2184, 2186, 2198, 2201, 2218, 2220, 2223, 2236, 2241, 2241, 2257, 2261, 2280, 2284, 2297, 2302, 2305, 2306, 2308, 2312, 2318, 2327, 2377, 2378, 2384, 2398, 2403, 2430, 2433, 2433, 2442, 2448, 2449, 2454, 2454, 2471, 2473, 2480, 2499, 2508, 2509, 2537, 2546, 2554, 2565, 2568, 2569, 2577, 2595, 2613, 2623, 2660, 2677, 2678, 2690, 2695, 2696, 2705, 2719, 2722, 2742, 2746, 2755, 2757, 2782, 2792, 2797, 2800, 2804, 2823, 2832, 2838, 2848, 2848, 2904, 2915, 2920, 2929, 2938, 2949, 2960, 2981, 2986, 2989, 2992, 2992, 2998, 3005, 3012, 3020, 3040, 3047, 3048, 3061, 3065, 3090, 3098, 3120, 3140, 3141, 3159, 3159, 3163, 3187, 3190, 3216, 3237, 3240, 3241, 3278, 3279, 3288, 3292, 3293, 3313, 3329, 3347, 3361, 3371, 3381, 3392, 3396, 3413, 3434, 3456, 3461, 3489, 3490, 3527, 3532, 3536, 3565, 3571, 3571, 3578, 3584, 3598, 3610, 3633, 3647, 3654, 3660, 3669, 3674, 3680, 3680, 3717, 3717, 3724, 3734, 3738, 3747, 3776, 3785, 3820, 3833, 3833, 3836, 3845, 3852, 3868, 3868, 3916, 3929, 3932, 3941, 3963, 3964, 3986, 4013, 4031, 4056, 4057, 4063, 4066, 4074, 4097, 4113, 4118, 4134, 4136, 4139, 4141, 4144, 4150, 4163, 4169, 4178, 4178, 4204, 4209, 4217, 4236, 4237, 4262, 4277, 4293, 4304, 4320, 4321, 4326, 4351, 4368, 4378, 4385, 4391, 4411, 4411, 4412, 4420, 4421, 4432, 4441, 4442, 4448, 4457, 4492, 4497, 4506, 4510, 4513, 4531, 4531, 4539, 4546, 4574, 4583, 4584, 4609, 4611, 4613, 4620, 4622, 4628, 4641, 4651, 4657, 4662, 4664, 4672, 4704, 4718, 4721, 4722, 4723, 4738, 4753, 4755, 4768, 4771, 4776, 4779, 4785, 4791, 4799, 4800, 4807, 4833, 4836, 4870, 4870, 4871, 4884, 4894, 4895, 4914, 4919, 4928, 4936, 4938, 4957, 4959, 4962, 4981, 4989, 4993, 5002, 5004, 5015, 5027, 5040, 5052, 5055, 5070, 5078, 5086, 5092, 5108, 5108, 5117, 5120, 5136, 5170, 5183, 5183, 5199, 5205, 5205, 5225, 5236, 5241, 5241, 5242, 5259, 5275, 5275, 5300, 5321, 5336, 5344, 5368, 5423, 5430, 5437, 5441, 5449, 5472, 5483, 5493, 5498, 5501, 5507, 5512, 5516, 5518, 5542, 5559, 5567, 5582, 5598, 5600, 5604, 5609, 5612, 5616, 5623, 5648, 5662, 5664, 5669, 5677, 5689, 5696, 5708, 5714, 5719, 5721, 5723, 5736, 5748, 5763, 5764, 5766, 5789, 5790, 5795, 5796, 5797, 5806, 5823, 5825, 5841, 5845, 5872, 5874, 5876, 5876, 5879, 5882, 5894, 5906, 5914, 5931, 5952, 5957, 5964, 5982, 5988, 5995, 6019, 6020, 6022, 6023, 6032, 6049, 6052, 6061, 6085, 6101, 6105, 6119, 6158, 6167, 6170, 6179, 6183, 6183, 6188, 6198, 6224, 6225, 6237, 6238, 6252, 6277, 6277, 6279, 6336, 6339, 6346, 6361, 6367, 6372, 6378, 6391, 6392, 6393, 6396, 6408, 6424, 6452, 6463, 6468, 6474, 6503, 6517, 6569, 6572, 6573, 6575, 6578, 6594, 6621, 6634, 6647, 6668, 6676, 6676, 6681, 6693, 6704, 6710, 6710, 6713, 6722, 6729, 6731, 6731, 6746, 6766, 6766, 6773, 6775, 6787, 6788, 6791, 6793, 6799, 6815, 6816, 6852, 6865, 6871, 6872, 6873, 6901, 6906, 6909, 6919, 6948, 6949, 6967, 7002, 7006, 7009, 7017, 7018, 7024, 7076, 7077, 7082, 7089, 7100, 7117, 7117, 7122, 7124, 7144, 7150, 7154, 7161, 7173, 7182, 7227, 7235, 7238, 7240, 7274, 7278, 7287, 7324, 7338, 7346, 7347, 7371, 7405, 7405, 7410, 7414, 7437, 7441, 7446, 7453, 7455, 7461, 7463, 7463, 7473, 7487, 7501, 7522, 7528, 7529, 7538, 7543, 7554, 7560, 7572, 7599, 7599, 7601, 7604, 7607, 7609, 7624, 7626, 7627, 7636, 7660, 7682, 7704, 7711, 7721, 7727, 7730, 7730, 7735, 7743, 7750, 7758, 7759, 7764, 7766, 7780, 7781, 7789, 7790, 7795, 7815, 7823, 7826, 7843, 7844, 7844, 7872, 7878, 7878, 7882, 7887, 7905, 7945, 7973, 7993, 8030, 8035, 8037, 8038, 8044, 8057, 8058, 8069, 8073, 8090, 8107, 8118, 8131, 8147, 8156, 8184, 8191, 8194, 8210, 8221, 8223, 8223, 8231, 8251, 8275, 8285, 8295, 8307, 8312, 8315, 8335, 8345, 8353, 8362, 8368, 8377, 8388, 8392, 8395, 8414, 8436, 8437, 8442, 8443, 8447, 8456, 8457, 8482, 8482, 8484, 8499, 8504, 8513, 8522, 8531, 8540, 8545, 8547, 8555, 8569, 8569, 8618, 8623, 8651, 8659, 8667, 8668, 8670, 8678, 8704, 8736, 8741, 8750, 8760, 8765, 8769, 8796, 8800, 8818, 8829, 8830, 8831, 8844, 8849, 8869, 8872, 8886, 8896, 8901, 8902, 8917, 8944, 8951, 8961, 8968, 8975, 8987, 9002, 9019, 9026, 9036, 9053, 9056, 9098, 9111, 9116, 9121, 9134, 9141, 9147, 9150, 9162, 9163, 9181, 9194, 9200, 9215, 9221, 9231, 9240, 9248, 9250, 9251, 9273, 9286, 9292, 9293, 9298, 9307, 9310, 9310, 9320, 9321, 9327, 9345, 9353, 9370, 9377, 9383, 9383, 9399, 9408, 9420, 9426, 9433, 9450, 9454, 9467, 9469, 9481, 9510, 9516, 9525, 9526, 9549, 9555, 9568, 9585, 9590, 9596, 9598, 9604, 9605, 9614, 9618, 9627, 9633, 9635, 9655, 9656, 9668, 9673, 9677, 9682, 9683, 9684, 9690, 9692, 9699, 9712, 9724, 9725, 9733, 9742, 9743, 9747, 9751, 9779, 9780, 9784, 9804, 9817, 9878, 9879, 9884, 9886, 9901, 9904, 9911, 9920, 9920, 9930, 9941, 9957, 9972, 9989]\n"
          ]
        }
      ]
    },
    {
      "cell_type": "code",
      "source": [
        "#Aplicamos este nueva función sobre una lista de 2D\n",
        "\n",
        "import random\n",
        "\n",
        "LISTA_2D = [(random.randrange(1,10000),random.randrange(1,10000)) for x in range(1000)]\n",
        "\n",
        "LISTA_2D=sorted_points = sorted(LISTA_2D, key=lambda LISTA_2D: (LISTA_2D[0], LISTA_2D[1]))\n",
        "print(min_distance2D(LISTA_2D))\n",
        "print(LISTA_2D)"
      ],
      "metadata": {
        "colab": {
          "base_uri": "https://localhost:8080/"
        },
        "id": "FJ9qrFsjNkhU",
        "outputId": "9eec0726-83de-44fc-e510-d3707bf6fab7"
      },
      "execution_count": 196,
      "outputs": [
        {
          "output_type": "stream",
          "name": "stdout",
          "text": [
            "(2.23606797749979, [(8845, 5779), (8846, 5777)])\n",
            "[(9, 3975), (43, 7692), (55, 3777), (62, 7616), (91, 4841), (108, 294), (114, 2987), (118, 6663), (123, 7819), (140, 3363), (147, 1463), (148, 1308), (152, 1556), (161, 190), (190, 3158), (195, 2740), (195, 3099), (215, 2250), (230, 4053), (240, 5510), (249, 3829), (260, 3815), (270, 8819), (278, 2331), (290, 996), (307, 1528), (319, 6938), (327, 3991), (339, 6026), (359, 6889), (362, 4423), (381, 4862), (381, 5357), (397, 6556), (410, 184), (414, 9373), (420, 3774), (424, 3651), (427, 1892), (437, 9265), (461, 5558), (479, 1178), (483, 4712), (489, 8796), (496, 6443), (498, 295), (508, 6688), (529, 8239), (533, 4279), (533, 7270), (548, 5844), (549, 5752), (553, 4970), (567, 9603), (569, 1082), (580, 9259), (607, 7310), (618, 6953), (625, 8532), (646, 803), (655, 3494), (658, 6305), (698, 7214), (740, 2495), (757, 3113), (765, 4596), (768, 4008), (770, 230), (783, 5441), (787, 7988), (792, 2456), (796, 1104), (804, 6908), (818, 2014), (833, 7752), (839, 3795), (848, 1361), (848, 7784), (852, 4235), (859, 7354), (862, 4), (869, 2766), (871, 3851), (873, 3151), (876, 6062), (883, 8207), (887, 4545), (890, 5175), (892, 8038), (902, 1766), (908, 1144), (912, 8790), (942, 6564), (949, 1650), (951, 4316), (959, 5323), (971, 8703), (1002, 6589), (1013, 8588), (1035, 9540), (1046, 1694), (1047, 9311), (1054, 114), (1055, 1301), (1078, 4645), (1094, 9815), (1105, 6078), (1122, 2329), (1149, 9831), (1153, 7173), (1154, 6769), (1169, 9693), (1188, 446), (1199, 8311), (1219, 4989), (1226, 757), (1287, 5025), (1291, 3293), (1293, 816), (1301, 249), (1301, 6053), (1314, 6830), (1322, 5688), (1347, 2621), (1354, 7765), (1362, 2375), (1363, 997), (1375, 5622), (1383, 2213), (1387, 7062), (1407, 4342), (1409, 9586), (1410, 6519), (1410, 7210), (1413, 6291), (1413, 8242), (1416, 4840), (1439, 9388), (1448, 1971), (1479, 8949), (1487, 4392), (1508, 8302), (1513, 1348), (1517, 1107), (1522, 8363), (1558, 9953), (1566, 7995), (1580, 4624), (1595, 7154), (1597, 7314), (1600, 7589), (1602, 6379), (1603, 1010), (1608, 7967), (1611, 1145), (1612, 1821), (1616, 8514), (1623, 7332), (1634, 6492), (1664, 8238), (1675, 5175), (1679, 3395), (1681, 6428), (1694, 2062), (1700, 8382), (1722, 1640), (1726, 1940), (1762, 9438), (1763, 4045), (1780, 1116), (1806, 5295), (1824, 7193), (1848, 2903), (1863, 924), (1866, 9724), (1869, 1639), (1884, 431), (1887, 6917), (1892, 8783), (1898, 3843), (1900, 9309), (1901, 5500), (1911, 7290), (1914, 8367), (1919, 8151), (1940, 139), (1951, 681), (1957, 2319), (1970, 1458), (1972, 619), (1972, 8614), (1978, 6013), (1982, 522), (1991, 8738), (1991, 9099), (1992, 4701), (2013, 2609), (2033, 4643), (2036, 6781), (2046, 5604), (2048, 3761), (2052, 2561), (2054, 5755), (2072, 5645), (2082, 9188), (2092, 866), (2124, 7070), (2124, 9331), (2131, 5829), (2142, 6882), (2162, 8869), (2163, 239), (2166, 7324), (2167, 85), (2173, 8087), (2184, 7971), (2186, 9621), (2194, 9909), (2196, 8107), (2210, 960), (2214, 7671), (2223, 7297), (2247, 9241), (2275, 2591), (2280, 978), (2294, 8174), (2301, 9098), (2303, 4855), (2304, 1156), (2309, 1176), (2324, 9193), (2327, 2783), (2333, 7082), (2340, 2873), (2341, 7352), (2346, 9495), (2409, 185), (2423, 7955), (2438, 4311), (2456, 8106), (2461, 275), (2496, 5499), (2507, 5456), (2538, 5685), (2542, 8337), (2545, 61), (2548, 1551), (2587, 3929), (2599, 3131), (2604, 2850), (2615, 8983), (2617, 1472), (2625, 4491), (2633, 715), (2633, 9759), (2639, 4171), (2648, 1719), (2660, 4888), (2672, 4947), (2680, 3543), (2684, 5180), (2693, 2474), (2700, 1811), (2702, 2516), (2705, 6988), (2706, 9474), (2709, 7226), (2720, 5349), (2730, 4754), (2732, 7599), (2733, 4193), (2738, 4080), (2743, 4386), (2746, 5012), (2750, 3751), (2752, 5160), (2752, 5647), (2760, 8865), (2767, 7164), (2772, 2536), (2777, 1929), (2778, 2700), (2791, 2098), (2804, 4140), (2813, 5087), (2845, 969), (2845, 1649), (2857, 7432), (2881, 2578), (2893, 8499), (2896, 2673), (2899, 2257), (2911, 782), (2928, 4895), (2932, 6523), (2950, 7756), (2954, 1779), (2955, 8941), (2960, 562), (2983, 8304), (3000, 2133), (3021, 3865), (3033, 4315), (3064, 2443), (3084, 7189), (3088, 2113), (3098, 5892), (3099, 8651), (3102, 4741), (3123, 4274), (3128, 9021), (3139, 6899), (3145, 1982), (3156, 5499), (3181, 6616), (3200, 7420), (3202, 6174), (3215, 2602), (3232, 1719), (3244, 6394), (3260, 5073), (3279, 8360), (3290, 7417), (3291, 407), (3298, 2145), (3300, 3564), (3331, 6151), (3333, 7236), (3337, 7627), (3353, 4094), (3367, 769), (3368, 7404), (3375, 7136), (3377, 5552), (3383, 5086), (3392, 9178), (3398, 8961), (3408, 7864), (3439, 1944), (3448, 6834), (3456, 9228), (3483, 6004), (3507, 6514), (3516, 8210), (3526, 1620), (3534, 2602), (3558, 8781), (3561, 7660), (3570, 642), (3579, 6014), (3588, 5053), (3597, 4786), (3631, 9520), (3636, 2059), (3641, 5566), (3642, 7145), (3649, 6400), (3654, 8204), (3663, 8943), (3664, 6547), (3675, 8657), (3680, 4343), (3684, 3299), (3693, 232), (3713, 6352), (3726, 1470), (3739, 4348), (3746, 9269), (3749, 4351), (3775, 3594), (3789, 2342), (3791, 6362), (3792, 8127), (3805, 1556), (3815, 6998), (3818, 5210), (3831, 788), (3835, 9381), (3849, 9114), (3922, 1115), (3922, 6867), (3930, 7645), (3934, 1775), (3937, 9897), (3969, 2090), (3970, 3377), (3978, 9055), (3981, 2255), (3989, 5281), (3991, 6726), (3993, 6775), (3999, 2187), (4045, 9914), (4055, 9367), (4065, 7066), (4085, 3187), (4098, 8892), (4101, 564), (4110, 1973), (4115, 7009), (4118, 1389), (4118, 4766), (4121, 9757), (4135, 1104), (4136, 4002), (4144, 162), (4157, 8553), (4164, 1215), (4174, 9904), (4179, 9839), (4195, 5840), (4202, 1078), (4215, 9896), (4226, 7004), (4227, 7464), (4251, 5566), (4271, 6684), (4275, 5319), (4285, 8126), (4294, 1582), (4295, 9341), (4299, 7509), (4309, 6351), (4320, 7270), (4326, 1477), (4332, 8560), (4333, 5083), (4338, 1620), (4358, 7676), (4372, 7971), (4382, 2007), (4390, 8993), (4391, 2184), (4413, 436), (4426, 4263), (4462, 541), (4471, 4859), (4506, 7935), (4547, 9788), (4568, 4248), (4573, 599), (4590, 3062), (4609, 6229), (4611, 8988), (4622, 8766), (4640, 6970), (4658, 9138), (4668, 1242), (4668, 8649), (4680, 2058), (4693, 7239), (4696, 5514), (4715, 7394), (4734, 4184), (4757, 3665), (4761, 1763), (4766, 2548), (4768, 336), (4777, 7962), (4793, 3066), (4796, 4378), (4797, 421), (4797, 5906), (4803, 7001), (4837, 6754), (4839, 7659), (4852, 4982), (4862, 5792), (4866, 1548), (4897, 7165), (4902, 8414), (4915, 5071), (4920, 2403), (4922, 1020), (4927, 6362), (4930, 6954), (4950, 2545), (4955, 9983), (4967, 1441), (4972, 590), (4978, 9102), (4982, 9311), (4998, 4840), (5002, 2922), (5005, 1623), (5034, 1284), (5039, 8130), (5051, 72), (5051, 840), (5060, 837), (5091, 8433), (5098, 4728), (5107, 6534), (5125, 7504), (5138, 765), (5154, 7758), (5159, 5800), (5167, 6462), (5171, 9391), (5192, 6722), (5200, 4970), (5203, 7176), (5212, 6845), (5213, 5256), (5213, 5621), (5218, 7464), (5231, 3953), (5233, 7844), (5272, 6135), (5274, 7051), (5281, 6416), (5296, 4390), (5303, 7703), (5313, 664), (5314, 7669), (5321, 5573), (5323, 7236), (5324, 6334), (5328, 7398), (5331, 5406), (5332, 6081), (5337, 4334), (5347, 2508), (5350, 9128), (5352, 5458), (5370, 9773), (5371, 202), (5381, 7612), (5388, 3783), (5392, 4971), (5406, 2675), (5408, 7103), (5412, 6280), (5420, 1015), (5449, 3591), (5460, 670), (5460, 8083), (5468, 8670), (5493, 848), (5497, 6604), (5504, 800), (5509, 7218), (5518, 9830), (5530, 3468), (5563, 7143), (5583, 4914), (5590, 521), (5594, 5428), (5609, 6619), (5611, 527), (5614, 9873), (5618, 7277), (5632, 1039), (5640, 3900), (5643, 4125), (5652, 6733), (5656, 3881), (5656, 6640), (5659, 6766), (5662, 5686), (5673, 5941), (5675, 8166), (5680, 8585), (5682, 9791), (5696, 258), (5697, 2980), (5702, 9011), (5708, 3448), (5712, 6897), (5715, 2556), (5715, 9061), (5719, 1031), (5721, 8388), (5770, 9662), (5773, 5099), (5774, 809), (5778, 7654), (5795, 8224), (5808, 7048), (5827, 8877), (5838, 6678), (5850, 732), (5857, 1528), (5858, 7845), (5859, 515), (5859, 2510), (5868, 5837), (5869, 2922), (5878, 6687), (5895, 2667), (5906, 7098), (5921, 9518), (5935, 9120), (5939, 8046), (5955, 7253), (5958, 5872), (5987, 8100), (5988, 1172), (6027, 4190), (6030, 308), (6054, 8817), (6056, 8218), (6063, 9387), (6073, 3300), (6086, 6935), (6089, 3916), (6106, 604), (6115, 5276), (6142, 8821), (6158, 4558), (6167, 4191), (6184, 7985), (6191, 6286), (6206, 3547), (6212, 2353), (6219, 1113), (6226, 4373), (6249, 9220), (6267, 5121), (6279, 9724), (6285, 4641), (6290, 1490), (6297, 3623), (6315, 3620), (6321, 2100), (6323, 7237), (6334, 6246), (6335, 3126), (6353, 8453), (6363, 2995), (6368, 5324), (6373, 715), (6378, 1017), (6386, 7447), (6387, 464), (6404, 1078), (6408, 5711), (6410, 9254), (6420, 9275), (6431, 3926), (6439, 7933), (6439, 8723), (6446, 5986), (6447, 2904), (6470, 5465), (6484, 8716), (6494, 8678), (6495, 6693), (6521, 6159), (6522, 7137), (6531, 9709), (6532, 9266), (6534, 8964), (6536, 1391), (6544, 8976), (6550, 8659), (6556, 3357), (6562, 2243), (6575, 5985), (6578, 7143), (6579, 20), (6615, 4055), (6626, 8964), (6626, 9024), (6643, 3780), (6649, 8416), (6672, 2754), (6676, 2750), (6688, 9834), (6697, 575), (6722, 8932), (6728, 372), (6736, 1669), (6737, 9403), (6744, 3224), (6746, 128), (6760, 7909), (6772, 6027), (6786, 9166), (6787, 888), (6792, 904), (6806, 2871), (6822, 2872), (6827, 6602), (6827, 9337), (6853, 1909), (6855, 4168), (6867, 7095), (6891, 4970), (6917, 2563), (6927, 6515), (6938, 8379), (6941, 6419), (6941, 8671), (6962, 505), (6964, 7772), (6973, 611), (6979, 1781), (6984, 4421), (6987, 7813), (6991, 5536), (7003, 8741), (7003, 9457), (7005, 1842), (7018, 8177), (7019, 6264), (7044, 5654), (7045, 4070), (7045, 6900), (7100, 4667), (7102, 2663), (7106, 3852), (7115, 897), (7138, 7254), (7149, 2317), (7166, 8098), (7169, 4458), (7175, 5697), (7177, 2344), (7179, 618), (7186, 5285), (7189, 8039), (7201, 879), (7205, 421), (7217, 9405), (7251, 1645), (7255, 6430), (7259, 7557), (7291, 6727), (7303, 9403), (7314, 2443), (7318, 771), (7336, 3050), (7356, 1845), (7368, 7881), (7369, 5956), (7386, 7894), (7411, 9122), (7414, 3451), (7446, 9797), (7449, 8481), (7450, 2114), (7453, 6547), (7470, 5785), (7472, 1079), (7473, 5961), (7489, 2687), (7494, 8532), (7496, 2996), (7514, 2630), (7517, 2591), (7518, 3525), (7520, 5848), (7532, 8971), (7543, 4999), (7552, 7429), (7570, 1092), (7571, 4691), (7578, 70), (7599, 7887), (7607, 5424), (7621, 8783), (7635, 3817), (7653, 337), (7659, 9419), (7664, 7100), (7679, 7965), (7692, 3407), (7715, 8680), (7724, 4333), (7741, 561), (7766, 6186), (7778, 6556), (7809, 583), (7812, 7276), (7830, 7930), (7837, 5596), (7841, 4708), (7847, 8931), (7850, 4339), (7852, 2498), (7852, 6891), (7857, 8482), (7877, 5088), (7878, 7300), (7884, 8853), (7901, 8017), (7908, 2202), (7909, 4353), (7931, 583), (7939, 8662), (7945, 3589), (7952, 7248), (7956, 657), (7964, 2724), (7989, 5642), (8004, 969), (8009, 7791), (8051, 1305), (8057, 2604), (8077, 6578), (8081, 9736), (8085, 4534), (8127, 778), (8145, 4305), (8149, 4313), (8151, 51), (8167, 5995), (8167, 8618), (8184, 1425), (8202, 1307), (8211, 840), (8247, 2703), (8255, 1747), (8267, 4596), (8268, 4535), (8288, 5308), (8296, 2387), (8313, 1646), (8315, 7122), (8326, 4538), (8336, 6543), (8341, 3680), (8352, 1626), (8352, 6242), (8361, 2455), (8362, 8979), (8374, 7617), (8391, 5743), (8396, 1459), (8400, 116), (8401, 7566), (8409, 250), (8418, 8799), (8419, 8426), (8421, 2143), (8444, 4740), (8447, 5790), (8448, 8866), (8454, 8684), (8455, 4266), (8461, 721), (8467, 9222), (8473, 2294), (8480, 3605), (8487, 2660), (8489, 4265), (8491, 147), (8521, 9875), (8529, 1330), (8535, 7671), (8541, 4860), (8546, 8377), (8555, 9453), (8557, 4555), (8561, 3470), (8579, 4459), (8587, 2082), (8609, 6926), (8614, 1821), (8623, 8055), (8627, 6562), (8637, 8404), (8644, 2404), (8645, 2891), (8663, 3356), (8690, 9859), (8695, 7307), (8700, 8071), (8724, 1071), (8725, 181), (8739, 704), (8755, 7059), (8757, 4325), (8766, 2692), (8791, 9810), (8794, 1763), (8797, 7108), (8839, 3378), (8841, 2017), (8845, 5779), (8846, 5777), (8872, 2000), (8879, 9969), (8882, 1521), (8884, 5569), (8898, 3167), (8898, 3258), (8906, 371), (8907, 2668), (8908, 4506), (8930, 5346), (8936, 4007), (8943, 4116), (8950, 5309), (8967, 8363), (8972, 7954), (9002, 8597), (9005, 1687), (9020, 9863), (9026, 8128), (9031, 2462), (9047, 6588), (9049, 7565), (9052, 4010), (9065, 3852), (9073, 5910), (9077, 837), (9077, 4344), (9080, 6500), (9090, 6362), (9096, 1021), (9099, 2003), (9106, 1875), (9113, 5808), (9141, 2008), (9173, 6083), (9175, 3551), (9202, 5803), (9215, 2020), (9223, 9504), (9263, 2834), (9263, 5060), (9266, 6241), (9270, 5520), (9278, 8869), (9279, 2258), (9292, 7275), (9292, 7557), (9295, 695), (9298, 7678), (9322, 2064), (9332, 3789), (9342, 7757), (9343, 9985), (9345, 2667), (9354, 3309), (9359, 6355), (9368, 5978), (9370, 2079), (9373, 1457), (9375, 1502), (9389, 9333), (9412, 9783), (9424, 5574), (9427, 6465), (9452, 4630), (9458, 1392), (9485, 6852), (9499, 8852), (9500, 7493), (9510, 7242), (9512, 6025), (9515, 4642), (9566, 2505), (9566, 5879), (9578, 1327), (9581, 9022), (9585, 1765), (9612, 1816), (9615, 1663), (9618, 4483), (9620, 8585), (9631, 6617), (9636, 997), (9637, 9985), (9661, 9245), (9667, 6600), (9677, 3621), (9684, 6873), (9699, 1194), (9708, 5046), (9711, 7465), (9716, 4961), (9730, 9176), (9748, 7610), (9752, 8506), (9760, 940), (9770, 1341), (9789, 1946), (9794, 5342), (9806, 2734), (9810, 9398), (9816, 6457), (9817, 6983), (9820, 6327), (9829, 99), (9848, 4890), (9853, 4733), (9855, 8620), (9887, 8795), (9895, 356), (9904, 9589), (9920, 3561), (9921, 7482), (9929, 5597), (9943, 5698), (9951, 33), (9962, 4150), (9963, 4670)]\n"
          ]
        }
      ]
    },
    {
      "cell_type": "code",
      "source": [
        "#Aplicamos este nueva función sobre una lista de 3D\n",
        "\n",
        "import random\n",
        "\n",
        "LISTA_3D = [(random.randrange(1,10000),random.randrange(1,10000),random.randrange(1,10000)) for x in range(1000)]\n",
        "\n",
        "LISTA_3D=sorted_points = sorted(LISTA_3D, key=lambda LISTA_3D: (LISTA_3D[0], LISTA_3D[1], LISTA_3D[2]))\n",
        "print(min_distance2D(LISTA_3D))\n",
        "print(LISTA_3D)"
      ],
      "metadata": {
        "colab": {
          "base_uri": "https://localhost:8080/"
        },
        "id": "-rEBrRSgRaV1",
        "outputId": "519faeaa-822a-4caf-d2fb-4c4c7c3d20e4"
      },
      "execution_count": 197,
      "outputs": [
        {
          "output_type": "stream",
          "name": "stdout",
          "text": [
            "(4.242640687119285, [(4918, 2065, 9656), (4915, 2068, 5939)])\n",
            "[(3, 3882, 3887), (9, 745, 4430), (11, 1667, 174), (14, 2341, 367), (14, 5747, 3181), (20, 6103, 7479), (21, 8513, 2644), (32, 2344, 8889), (34, 5482, 5200), (35, 7925, 2340), (51, 841, 6563), (55, 8579, 5464), (56, 6131, 4714), (57, 321, 7283), (64, 4387, 4578), (68, 9926, 4314), (122, 3864, 8597), (136, 9810, 9446), (140, 418, 9774), (140, 3188, 2730), (153, 2047, 2010), (164, 8063, 1072), (165, 2378, 279), (170, 3383, 9826), (174, 2488, 3918), (187, 3403, 9897), (206, 1489, 7522), (208, 1059, 362), (212, 33, 293), (214, 1267, 9004), (219, 5113, 2410), (224, 943, 4846), (229, 4818, 2013), (236, 6500, 4885), (239, 3023, 9990), (240, 8580, 705), (257, 7992, 5167), (265, 5667, 3031), (267, 6774, 6116), (343, 4139, 6331), (364, 5388, 1476), (372, 7363, 4875), (379, 9665, 180), (388, 1328, 7459), (401, 2318, 7726), (401, 6958, 6447), (404, 7569, 9317), (421, 5126, 1687), (426, 5338, 3399), (429, 7311, 1092), (433, 1124, 1117), (435, 6145, 1469), (443, 7157, 7318), (478, 3307, 9474), (481, 1704, 3489), (483, 4878, 2568), (517, 607, 8582), (537, 6604, 8269), (538, 9475, 7276), (558, 4932, 8680), (562, 8079, 1938), (574, 3185, 6295), (575, 8382, 3203), (595, 8144, 6519), (625, 6487, 8082), (636, 2454, 1046), (642, 9794, 4514), (656, 7929, 6627), (668, 165, 4574), (674, 3955, 6234), (692, 8677, 9445), (714, 2208, 5969), (727, 5634, 9126), (732, 1474, 6513), (753, 1341, 1416), (754, 3859, 2426), (758, 192, 7566), (761, 4796, 2633), (763, 9576, 1018), (764, 1153, 6378), (770, 5514, 9030), (817, 2521, 7504), (843, 4301, 7752), (846, 9040, 4889), (859, 9717, 913), (872, 5219, 2891), (892, 6241, 8619), (905, 9488, 1062), (925, 8421, 9579), (948, 2450, 4293), (954, 9858, 6848), (963, 9095, 4900), (964, 7568, 3239), (983, 3327, 185), (989, 6041, 6232), (996, 83, 1543), (1008, 3796, 8836), (1010, 6468, 1944), (1011, 9993, 8920), (1013, 7479, 4081), (1037, 5984, 4138), (1047, 6936, 5367), (1064, 3795, 8931), (1075, 1475, 7101), (1083, 182, 3457), (1095, 898, 7057), (1107, 8058, 6032), (1108, 6451, 7952), (1109, 7150, 117), (1113, 3049, 4328), (1117, 616, 8089), (1129, 8538, 7238), (1133, 2792, 3877), (1135, 134, 5805), (1158, 2622, 5106), (1167, 8513, 8612), (1191, 5105, 4649), (1196, 8789, 4340), (1252, 8169, 6382), (1259, 9227, 2979), (1260, 1155, 4623), (1266, 4373, 8077), (1271, 8494, 6634), (1280, 3942, 9551), (1283, 4722, 7846), (1295, 7990, 6756), (1342, 18, 2843), (1355, 880, 3326), (1384, 5322, 5675), (1384, 7161, 8387), (1387, 3276, 5771), (1402, 4822, 341), (1407, 9836, 2421), (1410, 7234, 3307), (1412, 9203, 8270), (1422, 7945, 2745), (1426, 4546, 1798), (1433, 8942, 4588), (1438, 113, 7680), (1440, 1574, 5422), (1473, 6306, 3236), (1476, 1099, 8844), (1479, 3866, 8871), (1493, 8624, 2321), (1494, 6239, 2250), (1503, 6788, 4826), (1516, 7594, 8296), (1529, 6090, 1669), (1537, 5747, 7410), (1545, 2275, 3815), (1546, 25, 9530), (1558, 1017, 5316), (1570, 624, 8165), (1576, 1213, 8307), (1582, 5807, 2740), (1591, 1077, 2388), (1596, 4555, 7659), (1604, 5898, 7838), (1606, 8292, 9640), (1626, 5307, 8102), (1634, 2519, 7396), (1667, 722, 4960), (1667, 3361, 1282), (1670, 4576, 5237), (1684, 8573, 8214), (1696, 536, 5247), (1696, 9224, 5297), (1717, 1973, 1237), (1723, 2442, 7655), (1727, 4595, 4393), (1740, 1768, 6698), (1741, 1221, 2080), (1753, 6213, 127), (1753, 8823, 8995), (1757, 4012, 3184), (1799, 4962, 6278), (1800, 5388, 2835), (1813, 6684, 3094), (1824, 9819, 9401), (1837, 2526, 1529), (1841, 414, 2498), (1846, 7153, 5230), (1852, 6143, 2388), (1855, 1409, 1026), (1856, 1119, 5602), (1857, 6875, 9918), (1883, 3408, 9100), (1915, 4373, 6643), (1939, 4643, 5524), (1952, 3805, 5466), (1965, 4136, 9517), (1989, 877, 7473), (1997, 6726, 5543), (2020, 8415, 242), (2030, 2155, 1622), (2047, 7622, 3329), (2069, 8417, 370), (2077, 1386, 5793), (2084, 4205, 8208), (2098, 5713, 8055), (2099, 7298, 1712), (2101, 4050, 3326), (2103, 6712, 8761), (2108, 1069, 421), (2110, 5957, 9282), (2112, 3923, 5401), (2132, 8424, 7564), (2133, 7261, 1543), (2148, 9654, 8846), (2151, 6807, 9201), (2154, 4669, 9650), (2156, 5407, 4953), (2164, 2299, 8574), (2168, 3548, 6234), (2179, 638, 5095), (2198, 4759, 1311), (2200, 3519, 9128), (2201, 2029, 1539), (2244, 4147, 9819), (2251, 6493, 7070), (2287, 3669, 3359), (2290, 993, 7609), (2299, 2676, 3185), (2308, 1729, 5367), (2309, 2835, 2739), (2312, 7687, 9513), (2320, 1997, 1737), (2327, 5847, 4525), (2386, 1018, 3826), (2427, 209, 3559), (2452, 8295, 8020), (2463, 4852, 1397), (2464, 1479, 5376), (2477, 6370, 3278), (2485, 3581, 8411), (2491, 4077, 2227), (2493, 9783, 5050), (2498, 6352, 1142), (2512, 410, 8400), (2538, 6611, 5361), (2550, 8088, 7455), (2556, 4264, 8741), (2566, 3572, 9261), (2566, 9394, 5697), (2576, 3591, 8509), (2579, 7323, 7993), (2592, 8231, 3889), (2595, 9855, 4199), (2596, 2379, 7598), (2630, 4526, 8209), (2631, 1823, 3924), (2634, 2121, 3742), (2642, 2728, 642), (2653, 2107, 8835), (2659, 8958, 9912), (2662, 4033, 9010), (2666, 6045, 1712), (2667, 6674, 6668), (2668, 638, 2306), (2675, 5055, 4691), (2694, 215, 6326), (2700, 329, 3827), (2701, 1664, 3921), (2709, 3585, 1311), (2711, 1969, 6696), (2713, 9467, 4709), (2718, 5606, 5609), (2745, 6352, 8187), (2760, 7183, 8034), (2767, 5145, 5692), (2770, 8100, 9103), (2772, 932, 9830), (2777, 7077, 4273), (2784, 5230, 8558), (2798, 8868, 2545), (2805, 6129, 2163), (2805, 9623, 7758), (2815, 1766, 4142), (2817, 9793, 4868), (2831, 8300, 7218), (2834, 5553, 6288), (2836, 8645, 6725), (2848, 8962, 4379), (2851, 1296, 3441), (2852, 7299, 9906), (2864, 6201, 3535), (2882, 4448, 3567), (2894, 8370, 8405), (2914, 8460, 4303), (2915, 969, 9928), (2938, 5616, 9373), (2940, 6813, 6504), (2950, 4758, 6401), (2960, 4281, 4867), (2962, 2563, 422), (2980, 8016, 6744), (2984, 29, 2714), (2986, 7502, 2822), (2992, 9527, 9697), (2994, 5937, 1586), (3014, 2171, 3689), (3038, 8360, 414), (3058, 8704, 5722), (3063, 7292, 6940), (3065, 8844, 2076), (3076, 1533, 4513), (3077, 7857, 7117), (3087, 2024, 2807), (3089, 5988, 5065), (3121, 3133, 7477), (3125, 5917, 6853), (3131, 4836, 4511), (3133, 3825, 3927), (3135, 1643, 2198), (3138, 4173, 3886), (3169, 4344, 4159), (3190, 6148, 8959), (3192, 3271, 4814), (3194, 9529, 793), (3238, 620, 9199), (3248, 4824, 4238), (3282, 9523, 9080), (3288, 1520, 5994), (3293, 26, 2409), (3295, 6553, 1895), (3298, 426, 4641), (3307, 6407, 3730), (3325, 6406, 1639), (3330, 4174, 6567), (3338, 8159, 2624), (3342, 4672, 1668), (3342, 7461, 366), (3344, 3977, 6985), (3344, 5663, 3959), (3354, 5353, 2948), (3354, 5577, 7818), (3372, 6212, 6677), (3377, 1204, 5621), (3377, 1747, 122), (3379, 853, 5554), (3388, 6896, 7186), (3392, 1309, 797), (3394, 9909, 9942), (3400, 3970, 5400), (3420, 2400, 8849), (3420, 5440, 9678), (3429, 7825, 4607), (3435, 8973, 8189), (3453, 6927, 5199), (3457, 812, 9394), (3471, 9422, 8896), (3479, 6341, 7634), (3486, 848, 9379), (3506, 2522, 5380), (3511, 2644, 7499), (3524, 3733, 3843), (3531, 113, 5784), (3578, 8963, 7427), (3580, 1770, 5273), (3591, 2524, 6750), (3592, 1074, 3557), (3633, 6837, 9609), (3662, 4477, 8349), (3675, 633, 3370), (3683, 8671, 1037), (3689, 5588, 8596), (3706, 4956, 911), (3720, 7783, 2738), (3723, 7909, 473), (3749, 4893, 4370), (3772, 8026, 9751), (3789, 1584, 5991), (3793, 630, 5664), (3795, 1126, 6464), (3800, 480, 5114), (3817, 6224, 373), (3819, 9755, 3992), (3841, 1756, 1532), (3847, 8765, 9621), (3850, 2604, 7431), (3857, 6935, 7175), (3865, 8593, 8165), (3866, 3153, 7999), (3880, 4916, 6401), (3884, 9314, 1897), (3888, 5907, 7932), (3894, 866, 8728), (3903, 5496, 8762), (3915, 9008, 3669), (3920, 5460, 1332), (3953, 1237, 4609), (3954, 6678, 4356), (3970, 4775, 4785), (3978, 9487, 1078), (3981, 8189, 1310), (4007, 3596, 8004), (4013, 7702, 2227), (4018, 5422, 2953), (4019, 2756, 84), (4020, 5215, 504), (4021, 1260, 9745), (4023, 8639, 9714), (4036, 1049, 6231), (4042, 2626, 4316), (4063, 661, 3053), (4083, 6678, 454), (4085, 8114, 4721), (4096, 2026, 4236), (4098, 8038, 8234), (4104, 9582, 5651), (4108, 9080, 2420), (4112, 7186, 8439), (4113, 6177, 3678), (4115, 2155, 7700), (4152, 737, 6479), (4160, 841, 7912), (4161, 1772, 4272), (4164, 627, 7915), (4166, 4732, 4163), (4173, 8222, 2095), (4175, 3857, 5966), (4175, 9908, 2755), (4176, 7422, 7566), (4186, 538, 5102), (4188, 552, 2643), (4201, 9280, 1546), (4216, 1809, 1774), (4235, 8884, 6114), (4251, 3953, 492), (4255, 9523, 5275), (4267, 2933, 9617), (4271, 3057, 6703), (4279, 1901, 8222), (4294, 5291, 8888), (4294, 9092, 6486), (4297, 537, 9396), (4305, 8927, 7242), (4321, 6583, 1637), (4326, 3316, 8447), (4338, 1007, 4592), (4339, 4349, 7375), (4339, 6754, 3073), (4350, 8655, 5941), (4355, 3151, 3844), (4372, 4058, 1309), (4427, 165, 4741), (4430, 6899, 1136), (4440, 7798, 4575), (4443, 3313, 9447), (4451, 9994, 9057), (4460, 5997, 9965), (4463, 2850, 5815), (4489, 5473, 1981), (4503, 8114, 8380), (4527, 8442, 3033), (4531, 6675, 3685), (4539, 9783, 1573), (4560, 2781, 1911), (4563, 3025, 189), (4583, 3679, 7371), (4587, 2133, 8830), (4595, 5253, 8288), (4597, 5502, 3225), (4606, 3484, 4629), (4608, 4573, 6102), (4623, 2931, 9022), (4646, 397, 1225), (4657, 5962, 2495), (4664, 6169, 1185), (4673, 4389, 116), (4681, 7253, 6523), (4684, 74, 6494), (4689, 3947, 2500), (4707, 1695, 1948), (4709, 9447, 9951), (4713, 3501, 3188), (4723, 9666, 861), (4734, 1516, 5028), (4748, 9996, 9561), (4749, 5386, 403), (4753, 3849, 9193), (4757, 1318, 593), (4757, 5222, 1205), (4761, 7354, 422), (4764, 9502, 8792), (4766, 766, 7471), (4768, 533, 3321), (4770, 703, 7299), (4772, 8161, 374), (4785, 416, 3014), (4800, 5552, 5878), (4802, 9646, 2604), (4864, 7751, 8130), (4915, 2068, 5939), (4918, 2065, 9656), (4930, 913, 100), (4948, 9426, 6964), (4958, 544, 5976), (4962, 8619, 8728), (4963, 583, 648), (4963, 2361, 4153), (4979, 3048, 4032), (4979, 3065, 3902), (4984, 320, 5307), (4989, 8222, 189), (4998, 704, 7253), (5005, 2271, 1821), (5008, 3121, 4472), (5020, 7794, 8817), (5031, 773, 1308), (5042, 5147, 7817), (5048, 7948, 5416), (5060, 6367, 3707), (5060, 9487, 1248), (5066, 2872, 5254), (5067, 3452, 2879), (5072, 7225, 6953), (5082, 3619, 3895), (5088, 7518, 6229), (5111, 4698, 8787), (5115, 9311, 3004), (5118, 3647, 3689), (5130, 9932, 1095), (5140, 4948, 7175), (5141, 3122, 1065), (5141, 5570, 8318), (5158, 1526, 182), (5158, 5456, 4493), (5162, 729, 7276), (5169, 5201, 3327), (5174, 5286, 9502), (5177, 5509, 8497), (5179, 2890, 9567), (5183, 3435, 4865), (5200, 7636, 7363), (5201, 3612, 713), (5233, 8886, 3693), (5234, 2945, 2504), (5263, 8868, 7517), (5269, 7009, 847), (5287, 7863, 3069), (5309, 6131, 9491), (5327, 3172, 2282), (5328, 6516, 688), (5349, 8802, 3681), (5352, 4976, 4369), (5353, 6381, 1539), (5368, 3198, 2892), (5372, 4810, 5535), (5396, 5015, 7556), (5411, 8401, 857), (5418, 3494, 8714), (5426, 3247, 6848), (5429, 8082, 1847), (5443, 426, 7217), (5470, 2576, 6445), (5474, 3890, 8686), (5483, 4865, 3429), (5487, 454, 5969), (5490, 2941, 5653), (5496, 8427, 597), (5510, 4593, 7923), (5519, 8573, 318), (5525, 3101, 5992), (5542, 2335, 9610), (5547, 1655, 116), (5552, 8074, 6698), (5558, 7239, 4134), (5576, 1194, 1182), (5594, 2440, 4598), (5594, 6329, 1550), (5595, 9640, 1690), (5619, 8955, 2598), (5633, 5130, 1123), (5671, 9691, 3832), (5674, 7790, 5726), (5678, 1637, 1315), (5699, 9456, 5043), (5717, 8495, 7287), (5718, 9814, 5047), (5734, 6299, 4265), (5756, 3868, 6719), (5804, 6565, 5431), (5807, 873, 3466), (5808, 5338, 938), (5817, 9447, 814), (5822, 8412, 17), (5824, 8417, 5063), (5834, 7489, 1674), (5837, 3162, 3864), (5845, 8602, 3873), (5851, 1382, 7481), (5868, 5516, 5291), (5869, 2552, 2011), (5871, 2370, 8872), (5875, 6739, 7717), (5879, 8774, 1516), (5899, 6768, 8102), (5904, 5810, 6266), (5909, 3606, 7460), (5916, 396, 7578), (5933, 8560, 7443), (5943, 9573, 2858), (5944, 7050, 1141), (5945, 7916, 7707), (5956, 2442, 8055), (5964, 584, 9146), (5970, 1950, 2193), (5976, 8052, 411), (5991, 2209, 743), (5995, 4231, 6319), (5995, 8759, 4899), (6007, 5809, 4372), (6008, 7590, 6412), (6021, 4827, 7653), (6045, 2806, 4473), (6062, 8129, 9678), (6069, 6788, 1626), (6078, 6210, 9503), (6082, 7113, 5988), (6088, 5059, 3350), (6095, 1096, 8633), (6117, 4920, 2637), (6117, 6234, 499), (6118, 5186, 9829), (6123, 8672, 1369), (6125, 9774, 4706), (6137, 6902, 5561), (6137, 9004, 3781), (6138, 4194, 2457), (6144, 1029, 6732), (6144, 5473, 8460), (6149, 2870, 9649), (6163, 8376, 3730), (6171, 125, 5623), (6189, 6959, 9683), (6197, 1504, 4814), (6212, 8560, 203), (6212, 9306, 7704), (6215, 2903, 5273), (6220, 6877, 382), (6221, 6331, 6910), (6232, 9586, 999), (6238, 5874, 4652), (6251, 8162, 5711), (6252, 8623, 1486), (6253, 4389, 8181), (6254, 4200, 5942), (6258, 9122, 2321), (6292, 4807, 7679), (6308, 4410, 8587), (6329, 5917, 6308), (6339, 6870, 9218), (6345, 5674, 7289), (6354, 9793, 9263), (6356, 4909, 5685), (6356, 6798, 3838), (6365, 7911, 4404), (6369, 2544, 2583), (6374, 3602, 1483), (6397, 904, 7242), (6416, 5970, 3386), (6444, 6926, 6641), (6448, 6542, 8058), (6464, 8730, 6954), (6469, 4853, 9352), (6470, 8416, 969), (6494, 462, 4737), (6496, 451, 5286), (6498, 8397, 1668), (6507, 6500, 8641), (6520, 20, 915), (6524, 9411, 2844), (6529, 9500, 4074), (6536, 3814, 4459), (6551, 7553, 2158), (6565, 1451, 9960), (6573, 9182, 1907), (6582, 2677, 4236), (6587, 6962, 4550), (6599, 6710, 1215), (6604, 866, 6972), (6615, 8788, 4191), (6621, 7497, 1604), (6628, 4483, 3519), (6642, 5130, 3788), (6649, 2304, 982), (6656, 8390, 2108), (6679, 1743, 5389), (6680, 6282, 8573), (6686, 8519, 171), (6700, 3905, 4138), (6701, 3778, 5143), (6702, 9101, 3407), (6707, 2747, 8968), (6731, 7376, 6777), (6742, 5825, 8487), (6754, 3450, 3118), (6757, 4175, 630), (6768, 3583, 1896), (6773, 9886, 4469), (6783, 7085, 1107), (6785, 7871, 6246), (6808, 156, 9579), (6812, 3351, 8343), (6812, 4708, 7317), (6834, 8874, 8526), (6839, 3991, 6688), (6854, 4988, 914), (6872, 3323, 4090), (6873, 6726, 4960), (6883, 4594, 1273), (6896, 4261, 5363), (6907, 8809, 4022), (6942, 9408, 8823), (6961, 4970, 122), (6970, 2791, 2283), (6989, 1020, 713), (6991, 6787, 1163), (6996, 4546, 9215), (6997, 2466, 6673), (7010, 239, 1061), (7027, 3551, 9619), (7032, 8897, 8607), (7050, 7707, 5212), (7064, 1930, 7403), (7072, 8807, 5588), (7082, 9422, 8441), (7084, 5632, 1946), (7095, 6420, 4411), (7108, 1845, 2646), (7108, 9897, 9042), (7112, 8810, 6105), (7126, 4053, 2214), (7170, 2474, 3080), (7195, 6893, 9443), (7196, 4649, 6146), (7209, 1019, 4893), (7210, 3649, 8331), (7215, 3025, 3780), (7217, 2785, 9629), (7221, 5220, 4127), (7232, 1326, 3042), (7249, 305, 6571), (7252, 662, 6318), (7284, 4945, 9978), (7287, 7551, 6376), (7288, 2978, 7519), (7301, 4199, 2564), (7315, 22, 6857), (7342, 4522, 9939), (7343, 3320, 4251), (7353, 9756, 1788), (7363, 1930, 3829), (7368, 7770, 3431), (7369, 8079, 679), (7382, 4941, 858), (7383, 2294, 986), (7405, 6407, 1807), (7420, 9661, 3156), (7433, 5513, 5481), (7450, 8188, 4428), (7458, 3217, 8734), (7463, 2883, 6549), (7466, 613, 6550), (7493, 7100, 3500), (7495, 3471, 1306), (7499, 1791, 7110), (7501, 6068, 4936), (7506, 7122, 4749), (7513, 5583, 469), (7514, 691, 6123), (7552, 6844, 7943), (7597, 6174, 2453), (7600, 2824, 2271), (7609, 7416, 1176), (7626, 3980, 3897), (7636, 7157, 2475), (7639, 4316, 591), (7647, 8904, 1365), (7670, 3894, 9882), (7672, 1551, 6853), (7680, 5782, 2883), (7695, 1778, 2923), (7702, 9519, 813), (7723, 870, 5315), (7743, 9392, 2387), (7775, 3624, 4685), (7785, 919, 2441), (7800, 4569, 1066), (7811, 4174, 2440), (7812, 1798, 7753), (7844, 5188, 511), (7860, 4860, 1514), (7861, 6282, 3465), (7865, 1425, 7379), (7865, 4379, 9852), (7865, 4729, 9116), (7870, 5001, 7151), (7933, 4369, 6847), (7942, 3072, 5902), (7957, 3026, 5591), (7961, 5238, 2322), (8002, 6319, 4977), (8028, 7031, 4610), (8048, 188, 4717), (8052, 418, 6828), (8066, 3763, 8888), (8075, 476, 2642), (8091, 5729, 8391), (8119, 4464, 9786), (8133, 20, 7133), (8141, 3815, 1875), (8144, 4821, 606), (8180, 6336, 2531), (8184, 6257, 1796), (8193, 5617, 1956), (8202, 4118, 3998), (8216, 2312, 3545), (8221, 1949, 2130), (8221, 5638, 1), (8225, 2322, 1974), (8231, 3524, 5698), (8242, 8814, 2408), (8243, 3765, 2817), (8256, 5159, 9238), (8265, 1006, 7039), (8267, 827, 586), (8267, 3341, 6707), (8270, 1624, 5359), (8272, 3577, 596), (8289, 7463, 6801), (8297, 9015, 1619), (8298, 6714, 5807), (8307, 7959, 7871), (8309, 2401, 9670), (8319, 7269, 3347), (8330, 6443, 4900), (8338, 3910, 1440), (8341, 2485, 2988), (8342, 890, 7725), (8355, 4114, 1351), (8368, 520, 8139), (8392, 1560, 6029), (8400, 954, 9147), (8416, 5180, 6645), (8416, 8259, 7252), (8423, 2620, 8382), (8423, 6095, 8148), (8432, 2205, 8457), (8448, 3992, 8811), (8456, 2888, 871), (8467, 6782, 2632), (8472, 6079, 8579), (8484, 441, 7923), (8501, 2658, 4620), (8507, 8520, 4806), (8510, 2913, 381), (8515, 7297, 515), (8526, 3165, 1368), (8561, 5680, 9951), (8566, 6450, 7769), (8586, 1032, 5743), (8588, 6015, 8859), (8601, 2280, 2555), (8612, 1730, 8890), (8639, 4060, 6376), (8662, 9308, 1247), (8665, 3167, 4221), (8675, 9603, 3804), (8682, 1592, 4247), (8687, 7999, 2043), (8690, 3520, 977), (8699, 7193, 4685), (8703, 3130, 4490), (8705, 5391, 9161), (8724, 4914, 5541), (8730, 3076, 5766), (8735, 9691, 588), (8741, 5076, 2010), (8743, 4334, 3412), (8774, 7886, 54), (8785, 2334, 8444), (8794, 3643, 1187), (8803, 1327, 8737), (8818, 5684, 7875), (8822, 2602, 7449), (8825, 5031, 3279), (8827, 6009, 8385), (8842, 3380, 4783), (8845, 8122, 6637), (8868, 1069, 941), (8877, 7087, 2771), (8885, 8776, 5729), (8891, 2937, 1209), (8899, 8826, 4867), (8927, 957, 4862), (8939, 6368, 3308), (8974, 1962, 5786), (8974, 3751, 2092), (8997, 5617, 4136), (9006, 5959, 5577), (9013, 7431, 2196), (9034, 9993, 1767), (9039, 8250, 3148), (9046, 5979, 5015), (9056, 7496, 6129), (9064, 9648, 6134), (9080, 2275, 4725), (9096, 7947, 2094), (9110, 6727, 8094), (9117, 3156, 313), (9142, 8150, 607), (9152, 5567, 2267), (9170, 6117, 5516), (9187, 551, 9975), (9189, 1626, 7280), (9201, 1191, 1218), (9209, 5769, 5301), (9238, 2327, 8462), (9238, 5571, 6780), (9249, 5873, 4227), (9253, 4419, 7887), (9267, 2837, 6451), (9268, 53, 2836), (9278, 6892, 4684), (9281, 8994, 5013), (9284, 4865, 3022), (9294, 5872, 6464), (9300, 9461, 8335), (9309, 7079, 8773), (9317, 2651, 9716), (9325, 7477, 3655), (9326, 4835, 3400), (9343, 9107, 7712), (9382, 4377, 5979), (9397, 4180, 1007), (9400, 1977, 1527), (9403, 1386, 2639), (9417, 7657, 1736), (9418, 2378, 3197), (9422, 4187, 2193), (9430, 664, 2605), (9433, 2041, 8737), (9437, 2044, 7390), (9438, 9494, 1614), (9450, 5223, 7118), (9459, 8997, 1109), (9476, 4691, 7608), (9481, 4318, 8273), (9488, 9256, 6979), (9489, 6121, 1509), (9490, 7822, 9740), (9498, 5870, 8238), (9509, 8845, 1146), (9512, 2653, 3413), (9516, 2292, 6077), (9533, 4683, 7368), (9544, 1696, 4332), (9550, 2554, 9869), (9558, 4777, 9227), (9559, 7979, 6407), (9572, 2176, 7657), (9583, 754, 4191), (9595, 1901, 9800), (9603, 9199, 4877), (9614, 2261, 5292), (9625, 4446, 9028), (9631, 2824, 9489), (9636, 3381, 6202), (9663, 4438, 8341), (9665, 4643, 4635), (9665, 8139, 6853), (9684, 8721, 2725), (9701, 7789, 2219), (9739, 9561, 9876), (9764, 606, 325), (9765, 1687, 7090), (9782, 5457, 7730), (9803, 5916, 5092), (9815, 9598, 1556), (9816, 3564, 5596), (9818, 7764, 6604), (9846, 4827, 9384), (9863, 7249, 6579), (9879, 4656, 361), (9886, 9849, 5724), (9920, 5657, 3353), (9952, 1666, 4089), (9952, 9953, 7496), (9957, 1651, 6278), (9960, 2405, 7449), (9962, 8920, 9953), (9975, 9777, 5462), (9976, 3985, 6283), (9978, 6009, 6966), (9988, 4577, 5624), (9990, 3766, 5382), (9994, 1232, 2727), (9997, 4006, 8983)]\n"
          ]
        }
      ]
    }
  ]
}