{
  "nbformat": 4,
  "nbformat_minor": 0,
  "metadata": {
    "colab": {
      "provenance": [],
      "authorship_tag": "ABX9TyNtcYkTUFR+G4fkbNPXMJiB",
      "include_colab_link": true
    },
    "kernelspec": {
      "name": "python3",
      "display_name": "Python 3"
    },
    "language_info": {
      "name": "python"
    }
  },
  "cells": [
    {
      "cell_type": "markdown",
      "metadata": {
        "id": "view-in-github",
        "colab_type": "text"
      },
      "source": [
        "<a href=\"https://colab.research.google.com/github/mmarjer/03MIAR---Algoritmos-de-Optimizacion/blob/main/Algoritmos_AG1.ipynb\" target=\"_parent\"><img src=\"https://colab.research.google.com/assets/colab-badge.svg\" alt=\"Open In Colab\"/></a>"
      ]
    },
    {
      "cell_type": "code",
      "execution_count": 16,
      "metadata": {
        "id": "0li9HEWcQpOp"
      },
      "outputs": [],
      "source": []
    },
    {
      "cell_type": "markdown",
      "source": [
        "Nombre: Manuel Martín Jerónimo <br>\n",
        "\n",
        "*   Elemento de lista\n",
        "*   Elemento de lista\n",
        "\n",
        "\n",
        "https://colab.research.google.com/drive/1olRLXb_sn3imTZfabsDBrfpCSIuHOMle?usp=sharing\n",
        "\n",
        "https://github.com/mmarjer/03MIAR---Algoritmos-de-Optimizacion"
      ],
      "metadata": {
        "id": "Hae2FMLDQulE"
      }
    },
    {
      "cell_type": "code",
      "source": [
        "def Torres_Hanoi(N, desde, hasta):\n",
        "  #N = nº fichas \n",
        "  #desde nº poste inicio\n",
        "  #hasta = nº poste final\n",
        "\n",
        "  if N == 1:\n",
        "    print(\"Lleva la ficha desde \" + str(desde) + \" hasta \" + str(hasta))\n",
        "  else:\n",
        "    Torres_Hanoi(N-1, desde, 6-desde-hasta)\n",
        "    print(\"Lleva la ficha desde \" + str(desde) + \" hasta \" + str(hasta))\n",
        "    Torres_Hanoi(N-1, 6-desde-hasta, desde )\n",
        "Torres_Hanoi(3,1,3)"
      ],
      "metadata": {
        "colab": {
          "base_uri": "https://localhost:8080/"
        },
        "id": "c5y7FnAmVbGt",
        "outputId": "c0e82b73-b5fb-4435-8254-1b4c43c4b2da"
      },
      "execution_count": 17,
      "outputs": [
        {
          "output_type": "stream",
          "name": "stdout",
          "text": [
            "Lleva la ficha desde 1 hasta 3\n",
            "Lleva la ficha desde 1 hasta 2\n",
            "Lleva la ficha desde 3 hasta 1\n",
            "Lleva la ficha desde 1 hasta 3\n",
            "Lleva la ficha desde 2 hasta 3\n",
            "Lleva la ficha desde 2 hasta 1\n",
            "Lleva la ficha desde 3 hasta 2\n"
          ]
        }
      ]
    },
    {
      "cell_type": "code",
      "source": [
        "import math \n",
        "#debe estar el sistema monetario ordenado\n",
        "def cambio_monedas(Cantidad,Sistema):\n",
        "  Solucion=[0,0,0,0]\n",
        "  Valor_Acumulado=0\n",
        "  for i in range(0,len(Sistema)-1):\n",
        "    monedas= (Cantidad-Valor_Acumulado)//Sistema[i]\n",
        "    Solucion[i]=monedas\n",
        "    Valor_Acumulado+= monedas*Sistema[i]\n",
        "    if Valor_Acumulado==Cantidad:\n",
        "      return Solucion\n",
        "\n",
        "print(cambio_monedas(80,[25,10,5,1]))"
      ],
      "metadata": {
        "colab": {
          "base_uri": "https://localhost:8080/"
        },
        "id": "-RtWKdyKgmKn",
        "outputId": "0b943506-09f1-4728-e891-d8be834a2d8e"
      },
      "execution_count": 6,
      "outputs": [
        {
          "output_type": "stream",
          "name": "stdout",
          "text": [
            "[3, 0, 1, 0]\n"
          ]
        }
      ]
    },
    {
      "cell_type": "code",
      "source": [
        "#N Reinas - Vuelta Atrás()\n",
        "################################################################################\n",
        "\n",
        "#Verifica que en la solución parcial no hay amenzas entre reinas\n",
        "################################################################\n",
        "def es_prometedora(SOLUCION,etapa):\n",
        "################################################################\n",
        "  #print(SOLUCION)\n",
        "  #Si la solución tiene dos valores iguales no es valida => Dos reinas en la misma fila\n",
        "  for i in range(etapa+1):\n",
        "    #print(\"El valor \" + str(SOLUCION[i]) + \" está \" +  str(SOLUCION.count(SOLUCION[i])) + \" veces\")\n",
        "    if SOLUCION.count(SOLUCION[i]) > 1:       \n",
        "      return False\n",
        "  \n",
        "    #Verifica las diagonales\n",
        "    for j in range(i+1, etapa +1 ):\n",
        "      #print(\"Comprobando diagonal de \" + str(i) + \" y \" + str(j))\n",
        "      if abs(i-j) == abs(SOLUCION[i]-SOLUCION[j]) : return False\n",
        "  return True\n",
        "\n",
        "#Traduce la solución al tablero\n",
        "################################################################\n",
        "def escribe_solucion(S):\n",
        "################################################################\n",
        "  n = len(S)\n",
        "  for x in range(n):\n",
        "    print(\"\")\n",
        "    for i in range(n):\n",
        "      if S[i] == x+1:\n",
        "        print(\" X \" , end=\"\")\n",
        "      else:\n",
        "        print(\" - \", end=\"\")\n",
        "\n",
        "\n",
        "\n",
        "#Proceso principal de N-Reinas\n",
        "################################################################\n",
        "def reinas(N, solucion=[],etapa=0): \n",
        "################################################################\n",
        "### ....\n",
        "  if len(solucion) == 0:         # [0,0,0...]\n",
        "    solucion = [0 for i in range(N) ]\n",
        "  \n",
        "  for i in range(1, N+1):\n",
        "    solucion[etapa] = i\n",
        "    if es_prometedora(solucion, etapa):\n",
        "      if etapa == N-1:\n",
        "        print(solucion)\n",
        "      else:  \n",
        "        reinas(N, solucion, etapa+1)\n",
        "    else:\n",
        "      None\n",
        "  \n",
        "  solucion[etapa] = 0\n",
        "\n",
        "reinas(8,solucion=[],etapa=0)"
      ],
      "metadata": {
        "colab": {
          "base_uri": "https://localhost:8080/"
        },
        "id": "lwfWbY0opzVB",
        "outputId": "684ee04f-e5e1-4039-cddd-04052447995b"
      },
      "execution_count": 7,
      "outputs": [
        {
          "output_type": "stream",
          "name": "stdout",
          "text": [
            "[1, 5, 8, 6, 3, 7, 2, 4]\n",
            "[1, 6, 8, 3, 7, 4, 2, 5]\n",
            "[1, 7, 4, 6, 8, 2, 5, 3]\n",
            "[1, 7, 5, 8, 2, 4, 6, 3]\n",
            "[2, 4, 6, 8, 3, 1, 7, 5]\n",
            "[2, 5, 7, 1, 3, 8, 6, 4]\n",
            "[2, 5, 7, 4, 1, 8, 6, 3]\n",
            "[2, 6, 1, 7, 4, 8, 3, 5]\n",
            "[2, 6, 8, 3, 1, 4, 7, 5]\n",
            "[2, 7, 3, 6, 8, 5, 1, 4]\n",
            "[2, 7, 5, 8, 1, 4, 6, 3]\n",
            "[2, 8, 6, 1, 3, 5, 7, 4]\n",
            "[3, 1, 7, 5, 8, 2, 4, 6]\n",
            "[3, 5, 2, 8, 1, 7, 4, 6]\n",
            "[3, 5, 2, 8, 6, 4, 7, 1]\n",
            "[3, 5, 7, 1, 4, 2, 8, 6]\n",
            "[3, 5, 8, 4, 1, 7, 2, 6]\n",
            "[3, 6, 2, 5, 8, 1, 7, 4]\n",
            "[3, 6, 2, 7, 1, 4, 8, 5]\n",
            "[3, 6, 2, 7, 5, 1, 8, 4]\n",
            "[3, 6, 4, 1, 8, 5, 7, 2]\n",
            "[3, 6, 4, 2, 8, 5, 7, 1]\n",
            "[3, 6, 8, 1, 4, 7, 5, 2]\n",
            "[3, 6, 8, 1, 5, 7, 2, 4]\n",
            "[3, 6, 8, 2, 4, 1, 7, 5]\n",
            "[3, 7, 2, 8, 5, 1, 4, 6]\n",
            "[3, 7, 2, 8, 6, 4, 1, 5]\n",
            "[3, 8, 4, 7, 1, 6, 2, 5]\n",
            "[4, 1, 5, 8, 2, 7, 3, 6]\n",
            "[4, 1, 5, 8, 6, 3, 7, 2]\n",
            "[4, 2, 5, 8, 6, 1, 3, 7]\n",
            "[4, 2, 7, 3, 6, 8, 1, 5]\n",
            "[4, 2, 7, 3, 6, 8, 5, 1]\n",
            "[4, 2, 7, 5, 1, 8, 6, 3]\n",
            "[4, 2, 8, 5, 7, 1, 3, 6]\n",
            "[4, 2, 8, 6, 1, 3, 5, 7]\n",
            "[4, 6, 1, 5, 2, 8, 3, 7]\n",
            "[4, 6, 8, 2, 7, 1, 3, 5]\n",
            "[4, 6, 8, 3, 1, 7, 5, 2]\n",
            "[4, 7, 1, 8, 5, 2, 6, 3]\n",
            "[4, 7, 3, 8, 2, 5, 1, 6]\n",
            "[4, 7, 5, 2, 6, 1, 3, 8]\n",
            "[4, 7, 5, 3, 1, 6, 8, 2]\n",
            "[4, 8, 1, 3, 6, 2, 7, 5]\n",
            "[4, 8, 1, 5, 7, 2, 6, 3]\n",
            "[4, 8, 5, 3, 1, 7, 2, 6]\n",
            "[5, 1, 4, 6, 8, 2, 7, 3]\n",
            "[5, 1, 8, 4, 2, 7, 3, 6]\n",
            "[5, 1, 8, 6, 3, 7, 2, 4]\n",
            "[5, 2, 4, 6, 8, 3, 1, 7]\n",
            "[5, 2, 4, 7, 3, 8, 6, 1]\n",
            "[5, 2, 6, 1, 7, 4, 8, 3]\n",
            "[5, 2, 8, 1, 4, 7, 3, 6]\n",
            "[5, 3, 1, 6, 8, 2, 4, 7]\n",
            "[5, 3, 1, 7, 2, 8, 6, 4]\n",
            "[5, 3, 8, 4, 7, 1, 6, 2]\n",
            "[5, 7, 1, 3, 8, 6, 4, 2]\n",
            "[5, 7, 1, 4, 2, 8, 6, 3]\n",
            "[5, 7, 2, 4, 8, 1, 3, 6]\n",
            "[5, 7, 2, 6, 3, 1, 4, 8]\n",
            "[5, 7, 2, 6, 3, 1, 8, 4]\n",
            "[5, 7, 4, 1, 3, 8, 6, 2]\n",
            "[5, 8, 4, 1, 3, 6, 2, 7]\n",
            "[5, 8, 4, 1, 7, 2, 6, 3]\n",
            "[6, 1, 5, 2, 8, 3, 7, 4]\n",
            "[6, 2, 7, 1, 3, 5, 8, 4]\n",
            "[6, 2, 7, 1, 4, 8, 5, 3]\n",
            "[6, 3, 1, 7, 5, 8, 2, 4]\n",
            "[6, 3, 1, 8, 4, 2, 7, 5]\n",
            "[6, 3, 1, 8, 5, 2, 4, 7]\n",
            "[6, 3, 5, 7, 1, 4, 2, 8]\n",
            "[6, 3, 5, 8, 1, 4, 2, 7]\n",
            "[6, 3, 7, 2, 4, 8, 1, 5]\n",
            "[6, 3, 7, 2, 8, 5, 1, 4]\n",
            "[6, 3, 7, 4, 1, 8, 2, 5]\n",
            "[6, 4, 1, 5, 8, 2, 7, 3]\n",
            "[6, 4, 2, 8, 5, 7, 1, 3]\n",
            "[6, 4, 7, 1, 3, 5, 2, 8]\n",
            "[6, 4, 7, 1, 8, 2, 5, 3]\n",
            "[6, 8, 2, 4, 1, 7, 5, 3]\n",
            "[7, 1, 3, 8, 6, 4, 2, 5]\n",
            "[7, 2, 4, 1, 8, 5, 3, 6]\n",
            "[7, 2, 6, 3, 1, 4, 8, 5]\n",
            "[7, 3, 1, 6, 8, 5, 2, 4]\n",
            "[7, 3, 8, 2, 5, 1, 6, 4]\n",
            "[7, 4, 2, 5, 8, 1, 3, 6]\n",
            "[7, 4, 2, 8, 6, 1, 3, 5]\n",
            "[7, 5, 3, 1, 6, 8, 2, 4]\n",
            "[8, 2, 4, 1, 7, 5, 3, 6]\n",
            "[8, 2, 5, 3, 1, 7, 4, 6]\n",
            "[8, 3, 1, 6, 2, 5, 7, 4]\n",
            "[8, 4, 1, 3, 6, 2, 7, 5]\n"
          ]
        }
      ]
    },
    {
      "cell_type": "code",
      "source": [
        "escribe_solucion([1, 5, 8, 6, 3, 7, 2, 4])"
      ],
      "metadata": {
        "colab": {
          "base_uri": "https://localhost:8080/"
        },
        "id": "hegkQsv7p0cx",
        "outputId": "a769b173-fa51-42a9-c190-399d9c22acc5"
      },
      "execution_count": 8,
      "outputs": [
        {
          "output_type": "stream",
          "name": "stdout",
          "text": [
            "\n",
            " X  -  -  -  -  -  -  - \n",
            " -  -  -  -  -  -  X  - \n",
            " -  -  -  -  X  -  -  - \n",
            " -  -  -  -  -  -  -  X \n",
            " -  X  -  -  -  -  -  - \n",
            " -  -  -  X  -  -  -  - \n",
            " -  -  -  -  -  X  -  - \n",
            " -  -  X  -  -  -  -  - "
          ]
        }
      ]
    },
    {
      "cell_type": "code",
      "source": [
        "#Viaje por el rio - Programación dinámica\n",
        "################################################################################\n",
        "\n",
        "TARIFAS = [\n",
        "[0,5,4,3,999,999,999],\n",
        "[999,0,999,2,3,999,11],\n",
        "[999,999, 0,1,999,4,10],\n",
        "[999,999,999, 0,5,6,9],\n",
        "[999,999, 999,999,0,999,4],\n",
        "[999,999, 999,999,999,0,3],\n",
        "[999,999,999,999,999,999,0]\n",
        "]\n",
        "\n",
        "#999 se puede sustituir por float(\"inf\")\n",
        "\n",
        "\n",
        "#Calculo de la matriz de PRECIOS y RUTAS\n",
        "################################################################  \n",
        "def Precios(TARIFAS):\n",
        "################################################################  \n",
        "  #Total de Nodos\n",
        "  N = len(TARIFAS[0])\n",
        "  \n",
        "  #Inicialización de la tabla de precios\n",
        "  PRECIOS = [ [9999]*N for i in [9999]*N]\n",
        "  RUTA = [ [\"\"]*N for i in [\"\"]*N]\n",
        "  \n",
        "  for i in range(0,N-1):\n",
        "    RUTA[i][i] = i             #Para ir de i a i se \"pasa por i\"\n",
        "    PRECIOS[i][i] = 0          #Para ir de i a i se se paga 0\n",
        "    for j in range(i+1, N):\n",
        "      MIN = TARIFAS[i][j]\n",
        "      RUTA[i][j] = i         \n",
        "      \n",
        "      for k in range(i, j):\n",
        "        if PRECIOS[i][k] + TARIFAS[k][j] < MIN:\n",
        "            MIN = min(MIN, PRECIOS[i][k] + TARIFAS[k][j] )\n",
        "            RUTA[i][j] = k          #Anota que para ir de i a j hay que pasar por k\n",
        "        PRECIOS[i][j] = MIN\n",
        "        \n",
        "  return PRECIOS,RUTA\n",
        "################################################################  \n",
        "\n",
        "PRECIOS,RUTA = Precios(TARIFAS)  \n",
        "#print(PRECIOS[0][6])\n",
        "\n",
        "print(\"PRECIOS\")\n",
        "for i in range(len(TARIFAS)):\n",
        "  print(PRECIOS[i])\n",
        "\n",
        "print(\"\\nRUTA\")  \n",
        "for i in range(len(TARIFAS)):\n",
        "  print(RUTA[i])  \n",
        "  \n",
        "#Determinar la ruta con Recursividad\n",
        "def calcular_ruta(RUTA, desde, hasta):\n",
        "  if desde == hasta:\n",
        "    #print(\"Ir a :\" + str(desde))\n",
        "    return \"\" \n",
        "  else:\n",
        "    return str(calcular_ruta( RUTA, desde, RUTA[desde][hasta])) +  \\\n",
        "                ',' + \\\n",
        "                str(RUTA[desde][hasta] \\\n",
        "              ) \n",
        "\n",
        "print(\"\\nLa ruta es:\")  \n",
        "calcular_ruta(RUTA, 0,6)  "
      ],
      "metadata": {
        "colab": {
          "base_uri": "https://localhost:8080/",
          "height": 365
        },
        "id": "hNamLihhp_NC",
        "outputId": "916250d6-2795-4672-9012-4c484cfd458c"
      },
      "execution_count": 9,
      "outputs": [
        {
          "output_type": "stream",
          "name": "stdout",
          "text": [
            "PRECIOS\n",
            "[0, 5, 4, 3, 8, 8, 11]\n",
            "[9999, 0, 999, 2, 3, 8, 7]\n",
            "[9999, 9999, 0, 1, 6, 4, 7]\n",
            "[9999, 9999, 9999, 0, 5, 6, 9]\n",
            "[9999, 9999, 9999, 9999, 0, 999, 4]\n",
            "[9999, 9999, 9999, 9999, 9999, 0, 3]\n",
            "[9999, 9999, 9999, 9999, 9999, 9999, 9999]\n",
            "\n",
            "RUTA\n",
            "[0, 0, 0, 0, 1, 2, 5]\n",
            "['', 1, 1, 1, 1, 3, 4]\n",
            "['', '', 2, 2, 3, 2, 5]\n",
            "['', '', '', 3, 3, 3, 3]\n",
            "['', '', '', '', 4, 4, 4]\n",
            "['', '', '', '', '', 5, 5]\n",
            "['', '', '', '', '', '', '']\n",
            "\n",
            "La ruta es:\n"
          ]
        },
        {
          "output_type": "execute_result",
          "data": {
            "text/plain": [
              "',0,2,5'"
            ],
            "application/vnd.google.colaboratory.intrinsic+json": {
              "type": "string"
            }
          },
          "metadata": {},
          "execution_count": 9
        }
      ]
    },
    {
      "cell_type": "markdown",
      "source": [],
      "metadata": {
        "id": "Ii9WzytiRouW"
      }
    },
    {
      "cell_type": "markdown",
      "source": [
        "## Análisis para mejorar nota:"
      ],
      "metadata": {
        "id": "bB-5fQkcOqg7"
      }
    },
    {
      "cell_type": "code",
      "source": [
        "#dada una lista de número encontrar los dos mas cercanos\n",
        "\n",
        "Array= [3403, 4537, 9089, 9746, 7259]\n",
        "\n",
        "#aplicaremos fuerza bruta\n",
        "\n",
        "def FuerzaBruta(Lista):\n",
        "  min = 999999\n",
        "  x=0\n",
        "  y=0\n",
        "\n",
        "  for index1,num in enumerate(Lista):\n",
        "    for index2,nnum in enumerate(Lista):\n",
        "      if index1!=index2:\n",
        "        if abs(num - nnum)< min:\n",
        "          min = abs(num - nnum)\n",
        "          x=num\n",
        "          y=nnum\n",
        "  return x,y\n",
        "\n",
        "x, y = FuerzaBruta(Array)\n",
        "print('El primer puntoes {}'.format(x))\n",
        "print('El segundo punto es {}'.format(y))\n",
        "\n",
        "#La complejidad computacional vendrá dada por los dos bucles for anidados \n",
        "\n"
      ],
      "metadata": {
        "colab": {
          "base_uri": "https://localhost:8080/"
        },
        "id": "auRJdBnbRraU",
        "outputId": "7136dd76-deb7-44dc-f696-3fc82cbf76e3"
      },
      "execution_count": 10,
      "outputs": [
        {
          "output_type": "stream",
          "name": "stdout",
          "text": [
            "El primer puntoes 9089\n",
            "El segundo punto es 9746\n"
          ]
        }
      ]
    },
    {
      "cell_type": "markdown",
      "source": [
        "## La complejidad computacional del algoritmo por fuerza bruta vendrá dada por los dos bucles anidados que tenemos:\n",
        "\n",
        "## Luego la complejidad será de n**2"
      ],
      "metadata": {
        "id": "CMAXI2piXDeC"
      }
    },
    {
      "cell_type": "code",
      "source": [
        "#dada una lista de número encontrar los dos mas cercanos\n",
        "#Ahora aplicaremos divide y venceras\n",
        "\n",
        "import math\n",
        "\n",
        "#necesitamos la lista ordenada previamente\n",
        "def min_distance(array):\n",
        "  n = len(array)\n",
        "  #Si tenemos un único elemento ponemos un valor infinito para que en la \n",
        "  #comparación posterior no se elija esta zona \n",
        "  if n<=1:\n",
        "    lista=[]\n",
        "    lista.append(array[0])\n",
        "    return math.inf,lista\n",
        "  \n",
        "  #Con esta condición acaba la recursividad, en esto se basa divide y vencerás \n",
        "  #limitarlo a la comparación de dos elementos\n",
        "  elif n==2:\n",
        "    lista=[]\n",
        "    lista.append(array[0])\n",
        "    lista.append(array[1])\n",
        "    return abs(array[0]-array[1]),lista\n",
        "  \n",
        "  else:\n",
        "\n",
        "    mid=n//2\n",
        "    leftpoints=[]\n",
        "    rightpoints=[]\n",
        "    \n",
        "    #Se continua llamando a la recursividad\n",
        "    left,leftpoints=min_distance(array[:mid])\n",
        "    right,rightpoints=min_distance(array[mid:])\n",
        "    points=[]\n",
        "    \n",
        "\n",
        "    #Se comaparan las listas que se van devolviendo de la recusividad\n",
        "    if(left<right):\n",
        "      minimo=left\n",
        "      points=leftpoints\n",
        "      #Comparamos el ultimo elemento de la izquierda con el primero de la derecha en caso que la mejor lista sea la derecha \n",
        "      #Con esto conseguimos comparar la dicisión de las dos parajeas de núemros\n",
        "      # [1,2] y [4,9]\n",
        "      # tenemos que la izquierda es la mejor comparamos el elemento 2 con el 4 para ver si la distancias es la más pequeña\n",
        "      #Esto lo podemos hacer así porque tenemos la lista ordenada previamente\n",
        "      #Si no la tuviesemos podríamos aplicar fuerza bruta para comparar los 4 elementos\n",
        "      if abs(leftpoints[-1]-rightpoints[0])<minimo:\n",
        "        minimo= abs(leftpoints[-1]-rightpoints[0])\n",
        "        points=[]\n",
        "        points.append(leftpoints[-1])\n",
        "        points.append(rightpoints[0])\n",
        "\n",
        "    else:\n",
        "      minimo= right\n",
        "      points=rightpoints\n",
        "      if abs(rightpoints[0]-leftpoints[-1])<minimo:\n",
        "        minimo= abs(rightpoints[0]-leftpoints[-1])\n",
        "        points=[]\n",
        "        points.append(rightpoints[0])\n",
        "        points.append(leftpoints[-1])\n",
        "\n",
        "    return minimo,points\n",
        "\n",
        "\n",
        "#necesitamos la lista ordenada previamente\n",
        "#en esta cambia el cálculo de la distancia ahora no es simplemente la resta de dos números\n",
        "def min_distance(array):\n",
        "  n = len(array)\n",
        "  #Si tenemos un único elemento ponemos un valor infinito para que en la \n",
        "  #comparación posterior no se elija esta zona \n",
        "  if n<=1:\n",
        "    lista=[]\n",
        "    lista.append(array[0])\n",
        "    return math.inf,lista\n",
        "  \n",
        "  #Con esta condición acaba la recursividad, en esto se basa divide y vencerás \n",
        "  #limitarlo a la comparación de dos elementos\n",
        "  elif n==2:\n",
        "    lista=[]\n",
        "    lista.append(array[0])\n",
        "    lista.append(array[1])\n",
        "    return euclidea(array[0]-array[1]),lista\n",
        "  \n",
        "  else:\n",
        "\n",
        "    mid=n//2\n",
        "    leftpoints=[]\n",
        "    rightpoints=[]\n",
        "    \n",
        "    #Se continua llamando a la recursividad\n",
        "    left,leftpoints=min_distance(array[:mid])\n",
        "    right,rightpoints=min_distance(array[mid:])\n",
        "    points=[]\n",
        "    \n",
        "\n",
        "    #Se comaparan las listas que se van devolviendo de la recusividad\n",
        "    if(left<right):\n",
        "      minimo=left\n",
        "      points=leftpoints\n",
        "      #Comparamos el ultimo elemento de la izquierda con el primero de la derecha en caso que la mejor lista sea la derecha \n",
        "      #Con esto conseguimos comparar la dicisión de las dos parajeas de núemros\n",
        "      # [1,2] y [4,9]\n",
        "      # tenemos que la izquierda es la mejor comparamos el elemento 2 con el 4 para ver si la distancias es la más pequeña\n",
        "      #Esto lo podemos hacer así porque tenemos la lista ordenada previamente\n",
        "      #Si no la tuviesemos podríamos aplicar fuerza bruta para comparar los 4 elementos\n",
        "      if euclidea(leftpoints[-1]-rightpoints[0])<minimo:\n",
        "        minimo= euclidea(leftpoints[-1]-rightpoints[0])\n",
        "        points=[]\n",
        "        points.append(leftpoints[-1])\n",
        "        points.append(rightpoints[0])\n",
        "\n",
        "    else:\n",
        "      minimo= right\n",
        "      points=rightpoints\n",
        "      if euclidea(rightpoints[0]-leftpoints[-1])<minimo:\n",
        "        minimo= euclidea(rightpoints[0]-leftpoints[-1])\n",
        "        points=[]\n",
        "        points.append(rightpoints[0])\n",
        "        points.append(leftpoints[-1])\n",
        "\n",
        "    return minimo,points\n",
        "\n",
        "def euclidea(punto1, punto2):\n",
        "  return ((punto2[0] - punto1[0])**2 + (punto2[1] - punto1[1])**2)**0.5\n"
      ],
      "metadata": {
        "id": "_A2_X8mLX02m"
      },
      "execution_count": 164,
      "outputs": []
    },
    {
      "cell_type": "markdown",
      "source": [
        "## Al tratarse de un algoritmo de divide y vencerás el orden de complejidad es (nlogn) luego es una mejor opción que la fuerza bruta"
      ],
      "metadata": {
        "id": "MkdrNa0Dwr-W"
      }
    },
    {
      "cell_type": "code",
      "source": [
        "#Aplicamos este nueva función sobre una lista de 1D\n",
        "\n",
        "import random\n",
        "\n",
        "LISTA_1D = [random.randrange(1,100000000) for x in range(100)]\n",
        "\n",
        "LISTA_1D.sort()\n",
        "\n",
        "print(min_distance(LISTA_1D))\n",
        "print(FuerzaBruta(LISTA_1D))\n",
        "print(LISTA_1D)"
      ],
      "metadata": {
        "colab": {
          "base_uri": "https://localhost:8080/"
        },
        "id": "gwAeit2oxED6",
        "outputId": "64a37957-278c-418a-f902-1d1bc9b57928"
      },
      "execution_count": 163,
      "outputs": [
        {
          "output_type": "stream",
          "name": "stdout",
          "text": [
            "(23562, [77075606, 77099168])\n",
            "(77075606, 77099168)\n",
            "[1213482, 1912722, 4341597, 6030840, 6278458, 6782679, 9448499, 11212561, 12924027, 13128214, 13816942, 14220025, 15020141, 15161047, 16690390, 17875552, 18332854, 21435821, 22960770, 23457578, 25738906, 25973106, 26514513, 27492657, 31128469, 35090747, 36457651, 37116221, 37758698, 38078716, 38584678, 39422586, 40923431, 41168877, 42073187, 44023236, 44337006, 45586521, 45678741, 46995504, 48854177, 49440520, 51562057, 52163530, 54191302, 54252322, 54346324, 54980138, 56436157, 56771174, 57371308, 58720232, 59469909, 60409025, 61844951, 62340311, 62733145, 65124246, 65540069, 66520256, 66952821, 68592406, 68661710, 68807943, 70156850, 71451294, 71514862, 71647996, 72110654, 72240307, 72288193, 74095794, 75257257, 75750068, 76379555, 76405402, 77075606, 77099168, 79011358, 80812269, 81914835, 82480713, 83554201, 83896263, 84754169, 86978204, 87295985, 87511713, 88735126, 88787079, 89034795, 89895902, 90140526, 91181845, 92357240, 92706360, 92876750, 93476199, 95131985, 98937858]\n"
          ]
        }
      ]
    },
    {
      "cell_type": "code",
      "source": [
        "#Aplicamos este nueva función sobre una lista de 1D\n",
        "\n",
        "import random\n",
        "\n",
        "LISTA_2D = [random.randrange(1,100000000) for x in range(100)]\n",
        "\n",
        "LISTA_1D.sort()\n",
        "\n",
        "print(min_distance(LISTA_1D))\n",
        "print(FuerzaBruta(LISTA_1D))\n",
        "print(LISTA_1D)"
      ],
      "metadata": {
        "id": "FJ9qrFsjNkhU"
      },
      "execution_count": null,
      "outputs": []
    },
    {
      "cell_type": "code",
      "source": [
        "def closest_pair(nums):\n",
        "    n = len(nums)\n",
        "    if n <= 1:\n",
        "        return float('inf') # retorna infinito si hay menos de dos números en la lista\n",
        "    elif n == 2:\n",
        "        return abs(nums[0] - nums[1]) # retorna la distancia entre los dos números si hay exactamente dos números en la lista\n",
        "    else:\n",
        "        mid = n // 2\n",
        "        left_nums = nums[:mid]\n",
        "        right_nums = nums[mid:]\n",
        "        min_left = closest_pair(left_nums)\n",
        "        min_right = closest_pair(right_nums)\n",
        "        d = min(min_left, min_right)\n",
        "        mid_num = nums[mid]\n",
        "        min_mid = float('inf')\n",
        "        for num in left_nums:\n",
        "            if abs(num - mid_num) < d:\n",
        "                min_mid = min(min_mid, abs(num - mid_num))\n",
        "        for num in right_nums:\n",
        "            if abs(num - mid_num) < d:\n",
        "                min_mid = min(min_mid, abs(num - mid_num))\n",
        "        return min(d, min_mid)"
      ],
      "metadata": {
        "id": "8QA1Op1OspOv"
      },
      "execution_count": 32,
      "outputs": []
    }
  ]
}