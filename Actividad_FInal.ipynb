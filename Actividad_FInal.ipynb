{
  "nbformat": 4,
  "nbformat_minor": 0,
  "metadata": {
    "colab": {
      "provenance": [],
      "authorship_tag": "ABX9TyM8z003dtHcF7qLyqM1qtAZ",
      "include_colab_link": true
    },
    "kernelspec": {
      "name": "python3",
      "display_name": "Python 3"
    },
    "language_info": {
      "name": "python"
    }
  },
  "cells": [
    {
      "cell_type": "markdown",
      "metadata": {
        "id": "view-in-github",
        "colab_type": "text"
      },
      "source": [
        "<a href=\"https://colab.research.google.com/github/mmarjer/03MIAR---Algoritmos-de-Optimizacion/blob/main/Actividad_FInal.ipynb\" target=\"_parent\"><img src=\"https://colab.research.google.com/assets/colab-badge.svg\" alt=\"Open In Colab\"/></a>"
      ]
    },
    {
      "cell_type": "code",
      "execution_count": null,
      "metadata": {
        "id": "FJVwFK2F5eBL"
      },
      "outputs": [],
      "source": []
    },
    {
      "cell_type": "markdown",
      "metadata": {
        "id": "hVbXYX-RfPWh"
      },
      "source": [
        "# Algoritmos de optimización - Seminario<br>\n",
        "Nombre y Apellidos: Manuel Martín Jerónimo   <br>\n",
        "\n",
        "https://colab.research.google.com/drive/1kfP2CRiuZZHUMuuEIcXBu1TRqBic1frA?usp=sharing<br>\n",
        "Url: https://github.com/mmarjer/03MIAR---Algoritmos-de-Optimizacion<br>\n",
        "Problema:\n",
        "## 1. Sesiones de doblaje <br>\n",
        "\n",
        "Se precisa coordinar el doblaje de una película. Los actores del doblaje deben coincidir en las \n",
        "tomas en las que sus personajes aparecen juntos en las diferentes tomas. Los actores de \n",
        "doblaje cobran todos la misma cantidad por cada día que deben desplazarse hasta el estudio de \n",
        "grabación independientemente del número de tomas que se graben. No es posible grabar más \n",
        "de 6 tomas por día. El objetivo es planificar las sesiones por día de manera que el gasto por los \n",
        "servicios de los actores de doblaje sea el menor posible\n",
        "\n",
        "(*) La respuesta es obligatoria\n",
        "\n",
        "\n",
        "\n",
        "\n",
        "\n",
        "                                        "
      ]
    },
    {
      "cell_type": "markdown",
      "metadata": {
        "id": "3_-exlrTgLd-"
      },
      "source": [
        "(*)¿Cuantas posibilidades hay sin tener en cuenta las restricciones?<br>\n",
        "\n",
        "\n",
        "\n",
        "¿Cuantas posibilidades hay teniendo en cuenta todas las restricciones.\n",
        "\n",
        "\n"
      ]
    },
    {
      "cell_type": "markdown",
      "metadata": {
        "id": "WfCUqJyKhPcw"
      },
      "source": [
        "**Respuesta**"
      ]
    },
    {
      "cell_type": "markdown",
      "source": [
        "*Teniendo en cuenta las restricciones:*\n",
        "\n",
        "Estamos ante un problema de combinatoria, tenemos n elemenos que serán el número de tomas, y las queremos ordenar en 5 grupos de 6 elementos, aplicando la restricción del problema de que el número máximo de tomas al día es 6. Entendemos que algunas tomas puedan repetir la cofiguración de de actores por lo que para nosotros sería el mismo elemento repetido. Como estamos evaluando el número de soluciones el orden de las tomas ahora no importa.\n",
        "\n",
        "Por todo esto, podemos decir que se trata dentro de un problema de combinatoria de un problema de combinaciones con repetición.\n",
        "\n",
        "n=30\n",
        "k=6\n",
        "\n",
        "Cn,k = (n+k-1)!/(K!(n-1)!) =1.623.160\n",
        "\n",
        "*Sin tener en cuenta las restricciones:*\n",
        "\n",
        "Al no tener restricciones quiere decir que podríamos hacer todas las tomas el mismo día.\n",
        "En esta situación queremos saber el número de posibles combinaciones que tiene estos 30 números(tomas). Suponiendo que ocurre igual que en la situación anterior en la que alguna toma se pueda repetir, estaríamos ante un problema de permutaciones con repetición. En este caso si no existen restricciones cualquier combinación sería la solución ya que el coste apagar sería por un único día.\n",
        "\n",
        "En este caso particular tenemos 4 elementos que se repiten 2 veces\n",
        "\n",
        "PRn = n!/(n1!*n2!...n!)= 30!/(2!*2!*2!*2!) =16.578.303.738.261.941.164.769.280.000.000\n",
        "\n"
      ],
      "metadata": {
        "id": "AK87Z3myp9Mb"
      }
    },
    {
      "cell_type": "code",
      "metadata": {
        "id": "iq6Fe32MgpDX"
      },
      "source": [],
      "execution_count": null,
      "outputs": []
    },
    {
      "cell_type": "markdown",
      "metadata": {
        "id": "dzynfVJahHoY"
      },
      "source": [
        "##Modelo para el espacio de soluciones<br>\n",
        "(*) ¿Cual es la estructura de datos que mejor se adapta al problema? Argumentalo.(Es posible que hayas elegido una al principio y veas la necesidad de cambiar, arguentalo)\n"
      ]
    },
    {
      "cell_type": "markdown",
      "metadata": {
        "id": "xFIJrOwKi2Ti"
      },
      "source": [
        "**Respuesta**"
      ]
    },
    {
      "cell_type": "markdown",
      "source": [
        "Para este problema ya que el pago se realiza por día para plantear la solución inicial debemos de minimizar el número de días de rodaje. Vamos a tomar 5 días de rodaje con 6 tomas al día. Dentro de esta estructura, intentaremos encontrar la solución ordenando las diferentes tomas para intentar que que cada día vayan los mismo actores.\n",
        "\n",
        "Existen otros tipos de estructura del problema como por ejemplo agrupar en 4 tomas por día pero esto hace que tengamos más días de rodaje, a priori, es va encontra de la solción porque estamos añadiendo días de rodaje."
      ],
      "metadata": {
        "id": "VEVNO8aEjVOQ"
      }
    },
    {
      "cell_type": "markdown",
      "source": [],
      "metadata": {
        "id": "Par2CtCxpxAf"
      }
    },
    {
      "cell_type": "markdown",
      "metadata": {
        "id": "7Z9U2W7bi-XS"
      },
      "source": [
        "##Según el modelo para el espacio de soluciones<br>\n",
        "(*)¿Cual es la función objetivo?\n",
        "\n",
        "(*)¿Es un problema de maximización o minimización?"
      ]
    },
    {
      "cell_type": "markdown",
      "metadata": {
        "id": "hBalWLM7j1_d"
      },
      "source": [
        "**Respuesta**"
      ]
    },
    {
      "cell_type": "markdown",
      "source": [
        "La función objetivo es minimizar el coste del rodaje ordenando las diferentes tomas de forma que la variedad de actores de un día de rodaje sea lo mas constante posible, es decir, la solución que tenemos que buscar es los actores vayan los mínimos días de rodaje, condensandoles sus actuaciones en unos o varios días siendo estos mínimos."
      ],
      "metadata": {
        "id": "FkJuzQiekw3-"
      }
    },
    {
      "cell_type": "markdown",
      "metadata": {
        "id": "rlnTYgY1j6I2"
      },
      "source": [
        "##Diseña un algoritmo para resolver el problema por fuerza bruta"
      ]
    },
    {
      "cell_type": "markdown",
      "metadata": {
        "id": "70rDgxYXkC8r"
      },
      "source": [
        "Respuesta"
      ]
    },
    {
      "cell_type": "code",
      "source": [
        "import itertools\n",
        "import numpy as np\n",
        "\n",
        "def fuerza_bruta(n, lista):\n",
        "    Ordenación = None\n",
        "    Valor = float('-inf')\n",
        "    for permutacion in itertools.permutations(lista):\n",
        "        Resultado = fitness_fuerzabruta(permutacion)\n",
        "        if Resultado < Valor:\n",
        "            Valor = Resultado\n",
        "            Ordenación = permutacion\n",
        "    return Valor,Ordenación\n",
        "\n",
        "def fitness_fuerzabruta(lista):\n",
        "    Coste = 0\n",
        "    PrecioxDia= 100\n",
        "    ValueOR =bin(0)\n",
        "    Result = 0\n",
        "    #Se toman los diferentes días de rodaje y se suman el número de actores diferentes\n",
        "    #Día 1\n",
        "    Result = CosteDay(lista[0:6])\n",
        "    Coste += Result\n",
        "    \n",
        "    #Día 2\n",
        "    Result = CosteDay(lista[6:12])\n",
        "    Coste += Result\n",
        "    \n",
        "    #Día 3\n",
        "    Result = CosteDay(lista[12:18])\n",
        "    Coste += Result\n",
        "    \n",
        "    #Día 4\n",
        "    Result = CosteDay(lista[18:24])\n",
        "    Coste += Result\n",
        "    \n",
        "    #Día 5\n",
        "    Result = CosteDay(lista[24:30])\n",
        "    Coste += Result\n",
        "\n",
        "    return Coste*PrecioxDia\n",
        "\n",
        "def CosteDay(Tomas):\n",
        "    Coste = 0\n",
        "    ValueOR=0\n",
        "    for Toma in Tomas:       \n",
        "        ValueOR = Toma | ValueOR\n",
        "    #Se cuenta el número de diferentes actores por día de rodaje\n",
        "    \n",
        "    binary = bin(ValueOR)[2:]\n",
        "    Coste = sum(map(int, list(binary)))\n",
        "    \n",
        "    return Coste"
      ],
      "metadata": {
        "id": "hn_q9pUpxPOE"
      },
      "execution_count": null,
      "outputs": []
    },
    {
      "cell_type": "code",
      "source": [
        "#Cada toma está codificada con un conjuntos de actores, estos se representan con 1 o 0 en caso de\n",
        "#de que participen en la escena por lo que podemos tratar cada toma como un número entero conviertiendo estos valores en binario\n",
        "#a núemro enteros por lo que es más fácil para manejar la información y depurar el código\n",
        "#Para eso hemos creado la función Decimal   \n",
        "    \n",
        "def Decimal(Numeros):\n",
        "    value=0\n",
        "    cnt=0\n",
        "    Lista = Numeros[::-1]\n",
        "    for num in Lista:\n",
        "        if num==1:\n",
        "            value+=2**cnt\n",
        "        cnt+=1\n",
        "        \n",
        "    return value"
      ],
      "metadata": {
        "id": "EsKxhhmi1sb-"
      },
      "execution_count": null,
      "outputs": []
    },
    {
      "cell_type": "code",
      "source": [
        "#Tratamiendo de los datos\n",
        "#Diferentes tomas\n",
        "Tomas=[]\n",
        "\n",
        "Tomas.append(Decimal([1,1,1,1,1,0,0,0,0,0]))\n",
        "Tomas.append(Decimal([0,0,1,1,1,0,0,0,0,0]))\n",
        "Tomas.append(Decimal([0,1,0,0,1,0,1,0,0,0]))\n",
        "Tomas.append(Decimal([1,1,0,0,0,0,1,1,0,0]))\n",
        "Tomas.append(Decimal([0,1,0,1,0,0,0,1,0,0]))\n",
        "Tomas.append(Decimal([1,1,0,1,1,0,0,0,0,0]))\n",
        "Tomas.append(Decimal([1,1,0,1,1,0,0,0,0,0]))\n",
        "Tomas.append(Decimal([1,1,0,0,0,1,0,0,0,0]))\n",
        "Tomas.append(Decimal([1,1,0,1,0,0,0,0,0,0]))\n",
        "Tomas.append(Decimal([1,1,0,0,0,1,0,0,1,0]))\n",
        "\n",
        "Tomas.append(Decimal([1,1,1,0,1,0,0,1,0,0]))\n",
        "Tomas.append(Decimal([1,1,1,1,0,1,0,0,0,0]))\n",
        "Tomas.append(Decimal([1,0,0,1,1,0,0,0,0,0]))\n",
        "Tomas.append(Decimal([1,0,1,0,0,1,0,0,0,0]))\n",
        "Tomas.append(Decimal([1,1,0,0,0,0,1,0,0,0]))\n",
        "Tomas.append(Decimal([0,0,0,1,0,0,0,0,0,1]))\n",
        "Tomas.append(Decimal([1,0,1,0,0,0,0,0,0,0]))\n",
        "Tomas.append(Decimal([0,0,1,0,0,1,0,0,0,0]))\n",
        "Tomas.append(Decimal([1,0,1,0,0,0,0,0,0,0]))\n",
        "Tomas.append(Decimal([1,0,1,1,1,0,0,0,0,0]))\n",
        "\n",
        "Tomas.append(Decimal([0,0,0,0,0,1,0,1,0,0]))\n",
        "Tomas.append(Decimal([1,1,1,1,0,0,0,0,0,0]))\n",
        "Tomas.append(Decimal([1,0,1,0,0,0,0,0,0,0]))\n",
        "Tomas.append(Decimal([0,0,1,0,0,1,0,0,0,0]))\n",
        "Tomas.append(Decimal([1,1,0,1,0,0,0,0,0,1]))\n",
        "Tomas.append(Decimal([1,0,1,0,1,0,0,0,1,0]))\n",
        "Tomas.append(Decimal([0,0,0,1,1,0,0,0,0,0]))\n",
        "Tomas.append(Decimal([1,0,0,1,0,0,0,0,0,0]))\n",
        "Tomas.append(Decimal([1,0,0,0,1,1,0,0,0,0]))\n",
        "Tomas.append(Decimal([1,0,0,1,0,0,0,0,0,0]))\n",
        "\n",
        "#Pasmos la codificaicón de los actores a números decimales para que sea más fácil el tratamiento \n",
        "print(Tomas)\n",
        "unique_elements, counts = np.unique(Tomas, return_counts=True)\n",
        "\n",
        "# Imprimimos los elementos que se repiten\n",
        "print(unique_elements[counts > 1])"
      ],
      "metadata": {
        "colab": {
          "base_uri": "https://localhost:8080/"
        },
        "id": "L3OULvQa1vPl",
        "outputId": "e6803b3a-4ab4-4c51-e801-69950fa6091e"
      },
      "execution_count": null,
      "outputs": [
        {
          "output_type": "stream",
          "name": "stdout",
          "text": [
            "[992, 224, 296, 780, 324, 864, 864, 784, 832, 786, 932, 976, 608, 656, 776, 65, 640, 144, 640, 736, 20, 960, 640, 144, 833, 674, 96, 576, 560, 576]\n",
            "[144 576 640 864]\n"
          ]
        }
      ]
    },
    {
      "cell_type": "code",
      "source": [
        "CosteRodaje, Orden = fuerza_bruta(30,Tomas)\n",
        "print(CosteRodaje)\n",
        "print(Orden)"
      ],
      "metadata": {
        "id": "nRq5U3pZ15BO"
      },
      "execution_count": null,
      "outputs": []
    },
    {
      "cell_type": "code",
      "source": [],
      "metadata": {
        "id": "z9ufYi_01zrd"
      },
      "execution_count": null,
      "outputs": []
    },
    {
      "cell_type": "markdown",
      "metadata": {
        "id": "tgrnsC2nkFa8"
      },
      "source": [
        "##Calcula la complejidad del algoritmo por fuerza bruta"
      ]
    },
    {
      "cell_type": "markdown",
      "metadata": {
        "id": "9eUd3xwckP68"
      },
      "source": [
        "**Respuesta**"
      ]
    },
    {
      "cell_type": "markdown",
      "source": [
        "La complejidad del algoritmo es O(n!)"
      ],
      "metadata": {
        "id": "bIxbXsim02Li"
      }
    },
    {
      "cell_type": "markdown",
      "metadata": {
        "id": "txbrmLmskReM"
      },
      "source": [
        "##(*)Diseña un algoritmo que mejore la complejidad del algortimo por fuerza bruta. Argumenta porque crees que mejora el algoritmo por fuerza bruta"
      ]
    },
    {
      "cell_type": "markdown",
      "metadata": {
        "id": "hLrVwt5QkZPD"
      },
      "source": [
        "**Respuesta**"
      ]
    },
    {
      "cell_type": "code",
      "source": [],
      "metadata": {
        "id": "H_ZoUSwnIdH3"
      },
      "execution_count": null,
      "outputs": []
    },
    {
      "cell_type": "markdown",
      "source": [
        "El espacio de soluciones de nuestro problema es muy grande por lo que una técnica determinista podría no encontrar una solución o que el coste computacional sería muy elevado.\n",
        "Para hallar la solución a este problemas vamos a construir un algoritmo genético para aproximarnos a una buena solución."
      ],
      "metadata": {
        "id": "DcHDXlvxqzaG"
      }
    },
    {
      "cell_type": "code",
      "metadata": {
        "id": "CJb5sQ0qkENy"
      },
      "source": [
        "#Librería para importar\n",
        "import pandas as pd\n",
        "import numpy as np\n",
        "import random"
      ],
      "execution_count": null,
      "outputs": []
    },
    {
      "cell_type": "code",
      "source": [
        "#Cada toma está codificada con un conjuntos de actores, estos se representan con 1 o 0 en caso de\n",
        "#de que participen en la escena por lo que podemos tratar cada toma como un número entero conviertiendo estos valores en binario\n",
        "#a núemro enteros por lo que es más fácil para manejar la información y depurar el código\n",
        "#Para eso hemos creado la función Decimal\n",
        "def ConvertPrint(Structut,Type):\n",
        "    Lista =[]\n",
        "    if Type == 1:\n",
        "        for day in Structut:\n",
        "            for toma in day:\n",
        "                Lista.append(Decimal(toma)) \n",
        "            \n",
        "    if Type == 2:\n",
        "        for toma in Structut:\n",
        "            Lista.append(Decimal(toma)) \n",
        "            \n",
        "    print(Lista)\n",
        "    \n",
        "    \n",
        "def Decimal(Numeros):\n",
        "    value=0\n",
        "    cnt=0\n",
        "    Lista = Numeros[::-1]\n",
        "    for num in Lista:\n",
        "        if num==1:\n",
        "            value+=2**cnt\n",
        "        cnt+=1\n",
        "        \n",
        "    return value"
      ],
      "metadata": {
        "id": "I8P115jsrcUG"
      },
      "execution_count": null,
      "outputs": []
    },
    {
      "cell_type": "code",
      "source": [
        "#Tratamiendo de los datos\n",
        "#Diferentes tomas\n",
        "Tomas=[]\n",
        "\n",
        "Tomas.append(Decimal([1,1,1,1,1,0,0,0,0,0]))\n",
        "Tomas.append(Decimal([0,0,1,1,1,0,0,0,0,0]))\n",
        "Tomas.append(Decimal([0,1,0,0,1,0,1,0,0,0]))\n",
        "Tomas.append(Decimal([1,1,0,0,0,0,1,1,0,0]))\n",
        "Tomas.append(Decimal([0,1,0,1,0,0,0,1,0,0]))\n",
        "Tomas.append(Decimal([1,1,0,1,1,0,0,0,0,0]))\n",
        "Tomas.append(Decimal([1,1,0,1,1,0,0,0,0,0]))\n",
        "Tomas.append(Decimal([1,1,0,0,0,1,0,0,0,0]))\n",
        "Tomas.append(Decimal([1,1,0,1,0,0,0,0,0,0]))\n",
        "Tomas.append(Decimal([1,1,0,0,0,1,0,0,1,0]))\n",
        "\n",
        "Tomas.append(Decimal([1,1,1,0,1,0,0,1,0,0]))\n",
        "Tomas.append(Decimal([1,1,1,1,0,1,0,0,0,0]))\n",
        "Tomas.append(Decimal([1,0,0,1,1,0,0,0,0,0]))\n",
        "Tomas.append(Decimal([1,0,1,0,0,1,0,0,0,0]))\n",
        "Tomas.append(Decimal([1,1,0,0,0,0,1,0,0,0]))\n",
        "Tomas.append(Decimal([0,0,0,1,0,0,0,0,0,1]))\n",
        "Tomas.append(Decimal([1,0,1,0,0,0,0,0,0,0]))\n",
        "Tomas.append(Decimal([0,0,1,0,0,1,0,0,0,0]))\n",
        "Tomas.append(Decimal([1,0,1,0,0,0,0,0,0,0]))\n",
        "Tomas.append(Decimal([1,0,1,1,1,0,0,0,0,0]))\n",
        "\n",
        "Tomas.append(Decimal([0,0,0,0,0,1,0,1,0,0]))\n",
        "Tomas.append(Decimal([1,1,1,1,0,0,0,0,0,0]))\n",
        "Tomas.append(Decimal([1,0,1,0,0,0,0,0,0,0]))\n",
        "Tomas.append(Decimal([0,0,1,0,0,1,0,0,0,0]))\n",
        "Tomas.append(Decimal([1,1,0,1,0,0,0,0,0,1]))\n",
        "Tomas.append(Decimal([1,0,1,0,1,0,0,0,1,0]))\n",
        "Tomas.append(Decimal([0,0,0,1,1,0,0,0,0,0]))\n",
        "Tomas.append(Decimal([1,0,0,1,0,0,0,0,0,0]))\n",
        "Tomas.append(Decimal([1,0,0,0,1,1,0,0,0,0]))\n",
        "Tomas.append(Decimal([1,0,0,1,0,0,0,0,0,0]))\n",
        "\n",
        "#Pasmos la codificaicón de los actores a números decimales para que sea más fácil el tratamiento \n",
        "print(Tomas)\n",
        "unique_elements, counts = np.unique(Tomas, return_counts=True)\n",
        "\n",
        "# Imprimimos los elementos que se repiten\n",
        "print(unique_elements[counts > 1])"
      ],
      "metadata": {
        "colab": {
          "base_uri": "https://localhost:8080/"
        },
        "id": "VHqG6JCftCFw",
        "outputId": "63181310-03ab-4dda-86d8-8449f3506a0b"
      },
      "execution_count": null,
      "outputs": [
        {
          "output_type": "stream",
          "name": "stdout",
          "text": [
            "[992, 224, 296, 780, 324, 864, 864, 784, 832, 786, 932, 976, 608, 656, 776, 65, 640, 144, 640, 736, 20, 960, 640, 144, 833, 674, 96, 576, 560, 576]\n",
            "[144 576 640 864]\n"
          ]
        }
      ]
    },
    {
      "cell_type": "code",
      "source": [
        "#Crear una población determianda\n",
        "def poblacion(Max,Lista): \n",
        "    population = []\n",
        "    individuos = []\n",
        "    for i in range(Max):\n",
        "        population.append(Individuo(Lista))\n",
        "    return population\n",
        "\n",
        "#Los individuos se genran de forma aleatoria\n",
        "#Se toman todos los elementos de las diferentes tomas y se ordena aleatoriamente\n",
        "def Individuo(Lista):\n",
        "    \n",
        "    person=[]\n",
        "    ListaTomas = Lista[:]\n",
        "    \n",
        "    #Mientras queden tomas en la lista seguimos creando la distribuci´´on\n",
        "    for i in range(len(ListaTomas)): \n",
        "        \n",
        "        #Tenemos definido el tamaño de tomas del día\n",
        "        Gen=random.sample(ListaTomas,k=1)\n",
        "        person.append(Gen[0])\n",
        "        \n",
        "        #Eliminamos el elemento seleccioando aleatoriamente\n",
        "        ListaTomas.remove(Gen[0])\n",
        "        \n",
        "            \n",
        "    return person\n"
      ],
      "metadata": {
        "id": "uXnnHopHtRtt"
      },
      "execution_count": null,
      "outputs": []
    },
    {
      "cell_type": "code",
      "source": [
        "#Función Fitness para evaluar el resultado\n",
        "#Suponemos que vamos a utilizar el máximo de tomas por días que son 6\n",
        "#Evaluamos el orden de la lista en grupos de 6 y sumamos el número de actores diferentes \n",
        "#Hacemos una OR de grupos de 6 y el resultado sumamos el número de 1 que tenmos\n",
        "#Supongamos que los actores cobran 100€ por día de trabajo\n",
        "def Fitness(Individuo):\n",
        "    Coste = 0\n",
        "    PrecioxDia= 100\n",
        "    ValueOR =bin(0)\n",
        "    Result = 0\n",
        "    #Se toman los diferentes días de rodaje y se suman el número de actores diferentes\n",
        "    #Día 1\n",
        "    Result = CosteDay(Individuo[0:6])\n",
        "    Coste += Result\n",
        "    \n",
        "    #Día 2\n",
        "    Result = CosteDay(Individuo[6:12])\n",
        "    Coste += Result\n",
        "    \n",
        "    #Día 3\n",
        "    Result = CosteDay(Individuo[12:18])\n",
        "    Coste += Result\n",
        "    \n",
        "    #Día 4\n",
        "    Result = CosteDay(Individuo[18:24])\n",
        "    Coste += Result\n",
        "    \n",
        "    #Día 5\n",
        "    Result = CosteDay(Individuo[24:30])\n",
        "    Coste += Result\n",
        "\n",
        "    return Coste*PrecioxDia\n",
        "\n",
        "def CosteDay(Genes):\n",
        "    Coste = 0\n",
        "    ValueOR=0\n",
        "    for Gen in Genes:       \n",
        "        ValueOR = Gen | ValueOR\n",
        "    #Se cuenta el número de diferentes actores por día de rodaje\n",
        "    \n",
        "    binary = bin(ValueOR)[2:]\n",
        "    Coste = sum(map(int, list(binary)))\n",
        "    \n",
        "    return Coste"
      ],
      "metadata": {
        "id": "yUskEoEpt2Gz"
      },
      "execution_count": null,
      "outputs": []
    },
    {
      "cell_type": "code",
      "source": [
        "#Función de selección\n",
        "#Tomamos los 25 mejores individuos de la generación y aleatoriamente cogemos un padre y una madre\n",
        "def Selección(population):\n",
        "    CopyPoblation = []\n",
        "    CopyPoblation = population[:]\n",
        "    ListFitness=[]\n",
        "    \n",
        "    #Obtenemos todas las puntuaciones y las ordenamos para quedarnos con las mejores\n",
        "    for individuo in population:\n",
        "        ListFitness.append(Fitness(individuo))\n",
        "    \n",
        "    #Ordenamos la lista\n",
        "    OrderFitness = sorted(ListFitness)\n",
        "    BestFitness = OrderFitness[:25]\n",
        "    BestPeople=[]\n",
        "    \n",
        "    for index, value in enumerate(ListFitness):\n",
        "        if value in BestFitness:\n",
        "            BestPeople.append(population[index])\n",
        "    \n",
        "    return BestPeople"
      ],
      "metadata": {
        "id": "mCD50CIZtZfu"
      },
      "execution_count": null,
      "outputs": []
    },
    {
      "cell_type": "code",
      "source": [
        "#Comprobamos que los hijos contengan todos los elementos de las tomas iniciales\n",
        "def factibles(hijo,IniList):\n",
        "    CopyChild=[]\n",
        "    CopyChild= hijo[:]\n",
        "    ListChild= hijo[:]\n",
        "    Cumple = False\n",
        "    \n",
        "    for child in CopyChild:\n",
        "        if child in IniList:\n",
        "            ListChild.remove(child)\n",
        "            \n",
        "    if len(ListChild)>0 or len(CopyChild)!=30 :\n",
        "        print(ListChild)\n",
        "        return False\n",
        "    else:\n",
        "        return True"
      ],
      "metadata": {
        "id": "VwucDiBqu8j4"
      },
      "execution_count": null,
      "outputs": []
    },
    {
      "cell_type": "code",
      "source": [
        "#La proporción de mezcla \n",
        "#80:20 fue sugerida como óptima por Spearsand De Jong (1990) \n",
        "#Tomaremos aleatoriamente 80% tomas/genes del padre que serán las posiciones en la lista\n",
        "#Tomares el resto de posiciones de la lista de la madre 20% Genes\n",
        "def Corte(population,Origen):\n",
        "    Hijo1=[]\n",
        "    Hijo2=[]\n",
        "    ListaOrigenH1 = Origen[:]\n",
        "    ListaOrigenH2 = Origen[:]\n",
        "    BestPeople=population[:]\n",
        "    \n",
        "    if not factibles(BestPeople[0],Origen[:]):\n",
        "        print('Error población')\n",
        "    \n",
        "    Padres=random.sample(BestPeople,k=1)\n",
        "    for delete in Padres:\n",
        "        BestPeople.remove(delete)\n",
        "            \n",
        "    Madres=random.sample(BestPeople,k=1)\n",
        "    for delete in Madres:\n",
        "        BestPeople.remove(delete)\n",
        "     \n",
        "    Padre=Padres[0]\n",
        "    Madre=Madres[0]\n",
        "    \n",
        "    ListPadre=Padre[:25]\n",
        "    ListMadre=Madre[:]\n",
        "    \n",
        "    if not factibles(Padre,Origen[:]):\n",
        "        print('Error Padre')\n",
        "    \n",
        "    if not factibles(Madre,Origen[:]):\n",
        "        print('Error Madre')\n",
        "    \n",
        "    #Para cumplir con la condicion de que todos los genes/tomas estén dentro de del hijo y no se repitan tomaremos los\n",
        "    # 6 genes restantes (que faltan en el hijo) los aportará la madre en el orden.\n",
        "    for toma in ListPadre:\n",
        "        ListaOrigenH1.remove(toma)\n",
        "        ListaOrigenH2.remove(toma)\n",
        "\n",
        "    #Tomaremos el orden de los genes/tomas las 80 primeras (24) del padre y el 20% restante de la madre (6) \n",
        "    #Creamos dos Hijos con los genes cruzados\n",
        "    for Gen in ListMadre:\n",
        "        if Gen in ListaOrigenH1:\n",
        "            Hijo1.append(Gen)\n",
        "            ListaOrigenH1.remove(Gen)\n",
        "            \n",
        "    for Gen in ListPadre:\n",
        "        Hijo1.append(Gen) \n",
        "    \n",
        "    for Gen in ListPadre:\n",
        "        Hijo2.append(Gen) \n",
        "    \n",
        "    for Gen in ListMadre:\n",
        "        if Gen in ListaOrigenH2:\n",
        "            Hijo2.append(Gen) \n",
        "            ListaOrigenH2.remove(Gen)\n",
        "            \n",
        "    if not factibles(Hijo1,Origen[:]):\n",
        "        print('Error Hijo')\n",
        "    \n",
        "    if not factibles(Hijo2,Origen[:]):\n",
        "        print('Error Hija')\n",
        "        \n",
        "    return Hijo1,Hijo2"
      ],
      "metadata": {
        "id": "upe6Ubo1ttM4"
      },
      "execution_count": null,
      "outputs": []
    },
    {
      "cell_type": "code",
      "source": [
        "#Función de mutación\n",
        "#Consite en intercambiar algún toma entre otra al azar\n",
        "def mutacion(Hijo):\n",
        "    #obtenemos el pimer gen a intercambiar\n",
        "    Randomi1=np.random.randint(0,len(Hijo)-1)\n",
        "    gen1=Hijo[Randomi1]\n",
        "    \n",
        "    #obtenemos el pimer gen a intercambiar\n",
        "    Randomi2=np.random.randint(0,len(Hijo)-1)\n",
        "    gen2=Hijo[Randomi2]\n",
        "    \n",
        "    #Intercambiamos los valores\n",
        "    Hijo[Randomi1]=gen2\n",
        "    Hijo[Randomi2]=gen1\n",
        "    \n",
        "    return Hijo"
      ],
      "metadata": {
        "id": "YvPdlot8to2j"
      },
      "execution_count": null,
      "outputs": []
    },
    {
      "cell_type": "code",
      "source": [
        "#Algoritmo genético con una población hace todas las tomas en 5 días\n",
        "def AG(ListaTomas):\n",
        "  population = poblacion(50,ListaTomas)\n",
        "  Generations= 0\n",
        "  FlastHijo=99999999\n",
        "\n",
        "  #Aplicamos elitismo, seleccionamos los 25 mejores de la primera solución\n",
        "  Elite = Selección(population)\n",
        "  Descendencia=[]\n",
        "\n",
        "  #Variable control para determinar si en la creación de la población hemos encontradi \n",
        "  FindSolution=False\n",
        "\n",
        "  #SI no encontramos una solución en un núemro determinado de generaciones paramos el algoritmo\n",
        "  while Generations<150:\n",
        "    \n",
        "    #Generar una descendencia de 25 miembros para crear una nueva Generación\n",
        "    for i in range(25):\n",
        "        Hijos = Corte(Elite,ListaTomas)\n",
        "        Hijo = mutacion(Hijos[0])\n",
        "        Hija = mutacion(Hijos[1])\n",
        "    \n",
        "    #Se evaluan los hijos para comprobar si alguno de ellos es el mejor que hemos encontrado hasta la fecha\n",
        "        Fhijo= Fitness(Hijo)\n",
        "        Fhija= Fitness(Hija)\n",
        "        if Fhijo<FlastHijo :\n",
        "            FlastHijo=Fhijo\n",
        "            LastHijo=Hijo\n",
        "            FindSolution=True\n",
        "        \n",
        "        elif Fhija<FlastHijo:\n",
        "            FlastHijo=Fhija\n",
        "            LastHijo=Hija\n",
        "            FindSolution=True\n",
        "            \n",
        "      # Seañaden los hijos a la descendencia para crear la nueva población\n",
        "        Descendencia.append(Hijo)\n",
        "        Descendencia.append(Hija)\n",
        "        \n",
        "    #Se añade la descendencia a la población con la que generamos la élite de la población \n",
        "    #Para iniciar el proceso de selección y generar una nueva descendencia\n",
        "    for child in Descendencia:\n",
        "        Elite.append(child)\n",
        "    \n",
        "    #Nos volvemos a quedar con los 25 mejores para genrar una nueva descendencia \n",
        "    Descendencia=[]\n",
        "    Elite = Selección(Elite)\n",
        "    \n",
        "    #SI hemos encontrado una solución mejor reiniciamos la cuenta de generaciones\n",
        "    if FindSolution==True:        \n",
        "        FindSolution=False\n",
        "        Generations=0\n",
        "    else:\n",
        "        Generations+=1\n",
        "\n",
        "  #Visualizamos el resultado\n",
        "  print(FlastHijo)\n",
        "  print(LastHijo)\n",
        "\n",
        "#Mejor solución\n",
        "#2800\n",
        "#[864, 833, 864, 65, 608, 576, 736, 640, 96, 960, 224, 992, 640, 296, 932, 776, 780, 640, 656, 20, 576, 832, 324, 976, 786, 674, 784, 560, 144, 144]"
      ],
      "metadata": {
        "id": "SJ4GYWBft66s"
      },
      "execution_count": null,
      "outputs": []
    },
    {
      "cell_type": "code",
      "source": [
        "AG(Tomas)\n",
        "\n",
        "#Mejor solución encontrada\n",
        "#2700\n",
        "#[640, 144, 144, 640, 20, 656, 674, 560, 960, 786, 784, 976, 65, 96, 833, 864, 864, 832, 608, 736, 576, 576, 640, 224, 324, 296, 932, 992, 780, 776]"
      ],
      "metadata": {
        "colab": {
          "base_uri": "https://localhost:8080/"
        },
        "id": "onEQwmWn7AcM",
        "outputId": "b519de1b-1fda-4d7c-ee01-c53a951e1572"
      },
      "execution_count": null,
      "outputs": [
        {
          "output_type": "stream",
          "name": "stdout",
          "text": [
            "2900\n",
            "[784, 560, 786, 976, 96, 674, 296, 65, 864, 832, 864, 833, 20, 144, 656, 780, 144, 776, 736, 608, 224, 640, 640, 640, 960, 576, 324, 932, 992, 576]\n"
          ]
        }
      ]
    },
    {
      "cell_type": "markdown",
      "metadata": {
        "id": "eGDB4K6uk1iN"
      },
      "source": [
        "##(*)Calcula la complejidad del algoritmo "
      ]
    },
    {
      "cell_type": "markdown",
      "metadata": {
        "id": "NhpTh_BPk1ms"
      },
      "source": [
        "**Respuesta**"
      ]
    },
    {
      "cell_type": "code",
      "metadata": {
        "id": "nREzhkStlCq8"
      },
      "source": [],
      "execution_count": null,
      "outputs": []
    },
    {
      "cell_type": "markdown",
      "source": [
        "La complejidad del problema es O(n!) es difícil saber con exactitud para este algoritmo en concreto el número de operaciones que realizamos ya que el problema está subdivido en varias operaciones como mutación, corte, selección que dependen de factores aleatorios. Incluso dependiendo de una buena solución inicial que ya de por si es aleatoria podemos obtener una solución antes que partiendo de una población inicial mala. Lo que si podemos afirmar midiendo el tiempo de ejecución del algoritmo por fuerza bruta y el algoritmo genético es que el segundo encuentra una buena solución en un tiempo mucho menor. "
      ],
      "metadata": {
        "id": "GCAMB8E7Im1t"
      }
    },
    {
      "cell_type": "markdown",
      "metadata": {
        "id": "3M6QjTsSkmYe"
      },
      "source": [
        "##Según el problema (y tenga sentido), diseña un juego de datos de entrada aleatorios"
      ]
    },
    {
      "cell_type": "markdown",
      "metadata": {
        "id": "Jc3_OlyNkvjZ"
      },
      "source": [
        "**Respuesta**"
      ]
    },
    {
      "cell_type": "code",
      "metadata": {
        "id": "sJ-N2etjkyWc",
        "colab": {
          "base_uri": "https://localhost:8080/"
        },
        "outputId": "4715e5a0-824e-47a8-bb99-e0240406f782"
      },
      "source": [
        "#se crear una lista de 30 números con valores comprendidos desde 1 a 2^10 \n",
        "#que el número máximo en decimal que podemos representar con 10 actores si todos rodasen esa toma\n",
        "NewArray=[]\n",
        "\n",
        "for i in range(30):\n",
        "  NewArray.append(np.random.randint(1,1023))\n",
        "\n",
        "print(NewArray)\n",
        "print(np.size(NewArray))\n",
        "print(np.size(Tomas))"
      ],
      "execution_count": null,
      "outputs": [
        {
          "output_type": "stream",
          "name": "stdout",
          "text": [
            "[595, 629, 854, 595, 314, 444, 375, 946, 715, 264, 426, 805, 454, 688, 76, 959, 753, 696, 886, 568, 251, 218, 1008, 847, 965, 900, 704, 410, 417, 221]\n",
            "30\n",
            "30\n"
          ]
        }
      ]
    },
    {
      "cell_type": "markdown",
      "metadata": {
        "id": "zy5ZROmjlGo1"
      },
      "source": [
        "##Aplica el algoritmo al juego de datos generado"
      ]
    },
    {
      "cell_type": "markdown",
      "metadata": {
        "id": "_Cmj-PVylMsa"
      },
      "source": [
        "**Respuesta**"
      ]
    },
    {
      "cell_type": "code",
      "metadata": {
        "id": "Jkx8GeiYlUz1",
        "colab": {
          "base_uri": "https://localhost:8080/"
        },
        "outputId": "5c61becf-a198-4f13-cb7e-b0fe64452785"
      },
      "source": [
        "AG(NewArray)"
      ],
      "execution_count": null,
      "outputs": [
        {
          "output_type": "stream",
          "name": "stdout",
          "text": [
            "4200\n",
            "[715, 847, 965, 221, 959, 629, 410, 946, 264, 426, 314, 568, 805, 417, 375, 886, 454, 854, 704, 1008, 900, 444, 688, 76, 595, 595, 753, 218, 696, 251]\n"
          ]
        }
      ]
    },
    {
      "cell_type": "markdown",
      "metadata": {
        "id": "eTFWUJQrtGcv"
      },
      "source": [
        "##Enumera las referencias que has utilizado(si ha sido necesario) para llevar a cabo el trabajo"
      ]
    },
    {
      "cell_type": "markdown",
      "metadata": {
        "id": "YKQ_mRBttWsP"
      },
      "source": [
        "**Respuesta**"
      ]
    },
    {
      "cell_type": "markdown",
      "source": [
        "Libro: Fundamentals of Algorithmics\n",
        "Gilles Brassard, Paul Bratley\n",
        "\n",
        "Artículos: https://pubmed.ncbi.nlm.nih.gov/15757679/\n",
        "\n",
        "https://dialnet.unirioja.es/descarga/articulo/4804205.pdf\n",
        "\n",
        "https://revistas.utp.edu.co/index.php/revistaciencia/article/view/5343/2959"
      ],
      "metadata": {
        "id": "dKDKurBs5zke"
      }
    },
    {
      "cell_type": "markdown",
      "metadata": {
        "id": "kAkDPUyRtYyH"
      },
      "source": [
        "##Describe brevemente las lineas de como crees que es posible avanzar en el estudio del problema. Ten en cuenta incluso posibles variaciones del problema y/o variaciones al alza del tamaño"
      ]
    },
    {
      "cell_type": "markdown",
      "metadata": {
        "id": "IE0uZmo-tZu-"
      },
      "source": [
        "**Respuesta**"
      ]
    },
    {
      "cell_type": "markdown",
      "source": [
        "Al inicio del problema fijamos una estructura concreata, esta es, las sesiones de rodaje se realizaban en días de 6 tomas porque intuitivamente se podía pensar que al minimizar los días de rodaje el coste sería menor. Una posible línea de continuación del problema podría ser dejar esta estructura libre, es decir, que al crear los individuos estos no tuviesen una estrucctura fija. Los individuos se podrían crear con un máximo de 30 días y máximo de 6 tomas de rodaje al día.\n",
        "\n",
        "Esto puede compliar los diferentes procesos de corte y mezcla dado que tenemos padres con diferentes estructuras. Quizas en este proceso podráimos heredar la estructura del padre con mejor fitness.\n",
        "\n",
        "La idea de esta línea sería explorar si realmente existen mejores configuraciones ampliando los días de rodaje."
      ],
      "metadata": {
        "id": "8Pq1bCi84Vbl"
      }
    }
  ]
}